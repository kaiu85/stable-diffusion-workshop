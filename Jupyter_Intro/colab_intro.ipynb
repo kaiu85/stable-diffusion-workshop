{
  "nbformat": 4,
  "nbformat_minor": 0,
  "metadata": {
    "colab": {
      "provenance": [],
      "collapsed_sections": [],
      "include_colab_link": true
    },
    "kernelspec": {
      "name": "python3",
      "display_name": "Python 3"
    },
    "language_info": {
      "name": "python"
    }
  },
  "cells": [
    {
      "cell_type": "markdown",
      "metadata": {
        "id": "view-in-github",
        "colab_type": "text"
      },
      "source": [
        "<a href=\"https://colab.research.google.com/github/kaiu85/Workshop_WS22/blob/main/Session_01_Introduction_to_programming_Python.ipynb\" target=\"_parent\"><img src=\"https://colab.research.google.com/assets/colab-badge.svg\" alt=\"Open In Colab\"/></a>"
      ]
    },
    {
      "cell_type": "markdown",
      "metadata": {
        "id": "XU0otKy1dQdN"
      },
      "source": [
        "# 4EU+ Day Two - Session 1 -  Coding in Python\n",
        "**Date:** 13.05.2022\n",
        "\n",
        "In this session we will have a look at programming in Python.\n",
        "\n",
        "At the end you should have some idea of how to use common sense, Python, Libraries, and Google to get to your goal regardless of what that exact goal is (e.g., visualizing data, analyzing data, building model, or scraping the web).\n",
        "\n",
        "A short list of stuff we want to do in this session!\n",
        "\n",
        "*   Quick intro to Colaboratory (notebooks)\n",
        "*   Simple Python\n",
        "*   Functions\n",
        "*   Googling your problems\n",
        "*   Libraries\n",
        "*   (Some Statistics?)\n",
        "\n",
        "## Other Sessions\n",
        "Level one guides you along a bit more\n",
        "\n",
        "Level two expects some comfort with Python (you can always look back to lvl 1 if its too difficult)\n",
        "\n",
        "Session 02\n",
        "* [Session 02 - lvl 1](https://colab.research.google.com/drive/1DmgrcqGQhfe1AOYpTgu-cOEv2tbuEtNO?usp=sharing)\n",
        "* [Session 02 - lvl 2](https://colab.research.google.com/drive/1oUcMZ1l4PHN0ctb72TiXuI9v9pu43xdh?usp=sharing)\n",
        "\n",
        "Session 03\n",
        "* [Session 03 - lvl 1](https://colab.research.google.com/drive/10AXzLjaCx2Jl87-eVFuJ54HQhyYiyHzd?usp=sharing)\n",
        "* [Session 03 - lvl 2](https://colab.research.google.com/drive/1eJQU4_rNWsdnm9W934X2El2wltulo3_x?usp=sharing)\n",
        "\n",
        "Data\n",
        "* [Data](https://drive.google.com/drive/folders/1R-mJuy79AtRb2moiYML8CUjQWgip_gCr?usp=sharing)"
      ]
    },
    {
      "cell_type": "markdown",
      "metadata": {
        "id": "Ip32I5Rpe4up"
      },
      "source": [
        "### Quick intro to Colaboratory\n",
        "First let's have a look at colaboratory\n"
      ]
    },
    {
      "cell_type": "markdown",
      "metadata": {
        "id": "dWd4M41WfE6A"
      },
      "source": [
        "In Colaboratory you can have two disctinct 'blocks'\n",
        "\n",
        "This is a **text block**"
      ]
    },
    {
      "cell_type": "code",
      "metadata": {
        "id": "ZEuIjwRVdFEu"
      },
      "source": [
        "# And this is a code block!"
      ],
      "execution_count": null,
      "outputs": []
    },
    {
      "cell_type": "markdown",
      "metadata": {
        "id": "s-cIv-tpfTq_"
      },
      "source": [
        "As you can see we can still write text in code blocks but it looks nicer as actual text.\n",
        "\n",
        "The **code blocks** is where we will write the code:\n",
        "\n",
        "If you hover your mouse over a **code block** a *play button* appears in the top left corner, clicking on this *play button* will execute the code in this block! Conversely, if the code block is active *Ctrl+Enter* will also execute the code.\n",
        "\n",
        "Try executing the next **code block**! If you succeed it should print the message below it."
      ]
    },
    {
      "cell_type": "code",
      "metadata": {
        "id": "YceabgZYhULI"
      },
      "source": [
        "# Run me please!\n",
        "print('Success!')"
      ],
      "execution_count": null,
      "outputs": []
    },
    {
      "cell_type": "markdown",
      "metadata": {
        "id": "kZyZkORalegQ"
      },
      "source": [
        "The nice thing about Colaboratory/ Python notebooks is that they will run and output results from each code block. This can give you a nice workflow, showing an analysis to a colleague can become much easier because they can see how the analysis is done and the figure made."
      ]
    },
    {
      "cell_type": "markdown",
      "metadata": {
        "id": "Q0FKRBIcrK3f"
      },
      "source": [
        "Please play around with all the code examples!\n",
        "\n",
        "Change the numbers, change the output, get it to fail! 🙂\n",
        "\n",
        "This is in no means a complete tutorial on Python but we hope it will help you along the way!"
      ]
    },
    {
      "cell_type": "markdown",
      "metadata": {
        "id": "1lCIJqzEjcHj"
      },
      "source": [
        "# Simple Python"
      ]
    },
    {
      "cell_type": "markdown",
      "metadata": {
        "id": "VHh3s6fCkkdP"
      },
      "source": [
        "### Comments"
      ]
    },
    {
      "cell_type": "code",
      "metadata": {
        "id": "M2hbFKjpfkOD"
      },
      "source": [
        "# Let's start with comments!\n",
        "# Any text that is preceded by '#' is a comment <- such as this whole block of text\n",
        "# The computer will skip over comments\n",
        "# That does not mean your code should be without comments since they help you \n",
        "# and others understand the code\n",
        "\n",
        "# If you run this code nothing will happen!"
      ],
      "execution_count": null,
      "outputs": []
    },
    {
      "cell_type": "markdown",
      "metadata": {
        "id": "7M6gOW1bkmIk"
      },
      "source": [
        "### Simple Math"
      ]
    },
    {
      "cell_type": "code",
      "metadata": {
        "id": "oPuQX_N3kwBJ"
      },
      "source": [
        "# Python can do simple Mathematical Operations\n",
        "# like addition\n",
        "4+4"
      ],
      "execution_count": null,
      "outputs": []
    },
    {
      "cell_type": "code",
      "metadata": {
        "id": "jL355U3VlTiI"
      },
      "source": [
        "# Subtraction \n",
        "5-3"
      ],
      "execution_count": null,
      "outputs": []
    },
    {
      "cell_type": "code",
      "metadata": {
        "id": "jQCLI6DSlXIO"
      },
      "source": [
        "# Multiplication\n",
        "6*3"
      ],
      "execution_count": null,
      "outputs": []
    },
    {
      "cell_type": "code",
      "metadata": {
        "id": "f_GWGarVlbcE"
      },
      "source": [
        "# And Division\n",
        "8/2"
      ],
      "execution_count": null,
      "outputs": []
    },
    {
      "cell_type": "code",
      "metadata": {
        "id": "t_orPbbFmcp6"
      },
      "source": [
        "# For individual outcomes the notebook will print the answers directly\n",
        "# But if we want to print multiple things we can use the print() function like so:\n",
        "print(4+5)\n",
        "print(8/2)"
      ],
      "execution_count": null,
      "outputs": []
    },
    {
      "cell_type": "code",
      "metadata": {
        "id": "ak1KO_Kwm1pI"
      },
      "source": [
        "# You can also use Python to compare values (this becomes very valuable later on)\n",
        "print(3 > 1) # Is 3 greater than 1\n",
        "print(4 < 2) # Is 4 smaller than 2\n",
        "\n",
        "6**3"
      ],
      "execution_count": null,
      "outputs": []
    },
    {
      "cell_type": "markdown",
      "source": [
        "#### Math operations\n",
        "Here are some of the operators summarized:\n",
        "\n",
        "* x + y   ->\tsum of x and y.\n",
        "* x * y   ->\tmultiplication of x and y.\n",
        "* x - y   ->\tdifference of x and y.\n",
        "* x / y   ->\tdivision of x by y.\n",
        "* x % y   ->\tremainder of x/y\n",
        "* x ** y  ->\tx to the power of y\n",
        "* abs(x)  ->\tabsolute value of x\n",
        "* sqrt(x) ->\tsquare root of x"
      ],
      "metadata": {
        "id": "sLRiswL7eHPO"
      }
    },
    {
      "cell_type": "code",
      "source": [
        "# Use this code block to try out some operators\n"
      ],
      "metadata": {
        "id": "g49FDKZwd01C"
      },
      "execution_count": null,
      "outputs": []
    },
    {
      "cell_type": "markdown",
      "metadata": {
        "id": "fp3nfJMxnKBK"
      },
      "source": [
        "### Variables\n",
        "But we do not go through the effort of using Python to just do some simple calculations. \n",
        "\n",
        "**Variables** allow you to store data."
      ]
    },
    {
      "cell_type": "code",
      "metadata": {
        "id": "pCCfp2ERnBqH"
      },
      "source": [
        "x = 7 # The number 7 is stored in x\n",
        "y = 3 # The number 3 is stored in y\n",
        "name = 'Jan' # The string Jan is stored in name\n",
        "print(x)\n",
        "print(y)\n",
        "print(name)"
      ],
      "execution_count": null,
      "outputs": []
    },
    {
      "cell_type": "code",
      "metadata": {
        "id": "qnV-jJbiprpA"
      },
      "source": [
        "# You can do the same type of mathematical operations on variables as you just did on numbers\n",
        "# The notebook will 'remember' the variables you instantiated before (in this case, the code block above)\n",
        "x * y\n",
        "# You can try some other operations!"
      ],
      "execution_count": null,
      "outputs": []
    },
    {
      "cell_type": "code",
      "metadata": {
        "id": "iElvg4_Gp8A4"
      },
      "source": [
        "# You can also save this to a new variable again\n",
        "a = x * y\n",
        "print(a)"
      ],
      "execution_count": null,
      "outputs": []
    },
    {
      "cell_type": "code",
      "metadata": {
        "id": "3KKCdkzOqTJg"
      },
      "source": [
        "# Can you make the output of this code to be: True\n",
        "a = 5\n",
        "b = 3\n",
        "c = a < b\n",
        "print(c)"
      ],
      "execution_count": null,
      "outputs": []
    },
    {
      "cell_type": "markdown",
      "metadata": {
        "id": "FCPhIa0Tph6I"
      },
      "source": [
        "### Data Types\n",
        "You might not have noticed but we have seen a couple variable types already!\n",
        "\n",
        "Integers, Floats & Strings have all been used, let's have a quick look at them.\n",
        "\n",
        "* Integers are whole numbers (e.g., 3, 4, 15)\n",
        "* Floats (Floating Point Number) are numbers that contain one or more decimals (e.g., 5.6, 52.1)\n",
        "* Strings are a piece of text and are surrounded by quotation marks (single or double) (e.g., 'Hello', \"This is a string\")\n",
        "* Boolean are either True or False (e.g., the outcome from 3 > 1)\n",
        "\n",
        "If you are unsure what **type** a variable has you can use the type() function\n"
      ]
    },
    {
      "cell_type": "code",
      "metadata": {
        "id": "Ay89sJXsr4oB"
      },
      "source": [
        "type(3)"
      ],
      "execution_count": null,
      "outputs": []
    },
    {
      "cell_type": "code",
      "metadata": {
        "id": "h75B9Bt5tpOx"
      },
      "source": [
        "# If you want multiple outputs from one code block you can wrap the function in a print()\n",
        "print(type(3))\n",
        "print(type(1.2))\n",
        "print(type('test'))"
      ],
      "execution_count": null,
      "outputs": []
    },
    {
      "cell_type": "code",
      "metadata": {
        "id": "cb6Jg_AxuKnN"
      },
      "source": [
        "# If you want to change the type of a variable you can Typecast it\n",
        "print(int(4.6)) # Do note if you change a float into a int it will cut-off the number after the decimal\n",
        "\n",
        "# Typecast an int into a float\n",
        "print(float(4))\n",
        "# Typecast an int into a str\n",
        "print(str(4))\n",
        "# Can you also typecast a str into an int or float?\n",
        "int('a')\n"
      ],
      "execution_count": null,
      "outputs": []
    },
    {
      "cell_type": "markdown",
      "metadata": {
        "id": "TjKSbR2yu_zl"
      },
      "source": [
        "### Lists\n",
        "It gets a little tedious to save just single numbers into variables.\n",
        "There are four data types in Python in which you can store multiple items: *List*, *Tuple*, *Set*, *Dictionary*. They all have different qualities and uses.\n",
        "\n",
        " **Lists** are created using square brackets:"
      ]
    },
    {
      "cell_type": "code",
      "metadata": {
        "id": "Hz6PQUscwHvY"
      },
      "source": [
        "mylist = ['item_one','item_two','item_three']\n",
        "print(mylist)\n",
        "\n",
        "myotherlist = [3,4,5,7,6]\n",
        "print(myotherlist)"
      ],
      "execution_count": null,
      "outputs": []
    },
    {
      "cell_type": "code",
      "metadata": {
        "id": "0l7w6Bt50AE1"
      },
      "source": [
        "\n",
        "# To get a single item from a list you can use [] and an index number \n",
        "# Python starts counting at 0 (i.e., to get the first item from the list you have to use [0])\n",
        "# Get Python to print the first item from mylist and last item from myotherlist\n",
        "\n"
      ],
      "execution_count": null,
      "outputs": []
    },
    {
      "cell_type": "code",
      "metadata": {
        "id": "OJqejSab0DIn"
      },
      "source": [
        "# A little trick to get the last item (if you don't know the length of the list)\n",
        "# is to use negative numbers (e.g., -1 means the last number, -2 the one before that etc.)\n",
        "print(myotherlist[-1])\n",
        "\n"
      ],
      "execution_count": null,
      "outputs": []
    },
    {
      "cell_type": "code",
      "metadata": {
        "id": "ioKGEnIo0FU3"
      },
      "source": [
        "# You can change lists once they have been created\n",
        "# Put a different string in place of 'item_two' in mylist\n",
        "\n"
      ],
      "execution_count": null,
      "outputs": []
    },
    {
      "cell_type": "code",
      "metadata": {
        "id": "xyROY-8n0GWQ"
      },
      "source": [
        "# To access multiple items from a list you can specify a range using ':'\n",
        "# E.g., to get items 1-3 you do list[0:3]\n",
        "fruit = [\"apple\", \"banana\", \"cherry\", \"orange\", \"kiwi\", \"melon\", \"mango\"]\n",
        "# Can you get Python to print ['banana', 'cherry', 'orange']?\n"
      ],
      "execution_count": null,
      "outputs": []
    },
    {
      "cell_type": "markdown",
      "metadata": {
        "id": "kVD3lCFkqpEu"
      },
      "source": [
        "### Errors\n",
        "If you are just starting out with Python this is the point where you start making errors (a lot of them!).\n",
        "\n",
        "The errors you make in the beginning are usually Syntax errors. \n",
        "Python will report this as an error and usually gives you a good idea of the mistake you made.\n",
        "\n",
        "![error_fig.png](data:image/png;base64,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)\n",
        "\n",
        "-=-=-=-=-=-=-=-=-=-=-=-=-=-=-=-=-=-=-=-=-=-=-=-=-=-=-=-=-=-=-=-=-=-=-=-=-=-=-=-=-=-=-=-=-=-=-=-=-=-=-=-=-=-=-=-=-=-=-=-=-=-=-=\n",
        "\n",
        "The trick with errors is to stay calm reading the error message carefully and thinking logically what could have gone wrong!\n",
        "\n",
        "Alternatively you could try the [rubber duck](https://en.wikipedia.org/wiki/Rubber_duck_debugging) approach!\n",
        "\n",
        "With these simple error message it often helps to Google the error message. The main website that will come up is [StackOverflow](https://stackoverflow.com/), on StackOverflow there is usually a more in depth explanation of the error that might help you along.\n"
      ]
    },
    {
      "cell_type": "markdown",
      "metadata": {
        "id": "zXvPxkMh7o_L"
      },
      "source": [
        "\n",
        "Try and see if you can spot the mistakes in the following code. Run it first to get the error message and then try to solve it."
      ]
    },
    {
      "cell_type": "code",
      "metadata": {
        "id": "L7Hb2qfH607j"
      },
      "source": [
        "print 4"
      ],
      "execution_count": null,
      "outputs": []
    },
    {
      "cell_type": "code",
      "metadata": {
        "id": "mc4zuJp668dP"
      },
      "source": [
        "fruit = [\"apple\", \"banana\", \"cherry\", \"orange\", \"kiwi\", \"melon\", \"mango\"]\n",
        "fruit[7]"
      ],
      "execution_count": null,
      "outputs": []
    },
    {
      "cell_type": "code",
      "metadata": {
        "id": "uM4TTpic7a2v"
      },
      "source": [
        "x = 8\n",
        "print(x*Y)"
      ],
      "execution_count": null,
      "outputs": []
    },
    {
      "cell_type": "markdown",
      "metadata": {
        "id": "ZeIwo-q49kk0"
      },
      "source": [
        "### Conditional Statements\n",
        "Now we are getting into **real programming territories**!\n",
        "\n",
        "Conditional statements is where you let the computer make a 'decision'. As a result of the decision a specific code block will be executed (and maybe one will be omitted).\n",
        "\n",
        "A conditional statement uses some reserved words, the most important is 'if'. If you want to make your code a little more complex you can also use 'else' and 'elif'. We will look at some examples below:"
      ]
    },
    {
      "cell_type": "code",
      "metadata": {
        "id": "-2KKM13W-uCx"
      },
      "source": [
        "# Let's use a conditional statement to see what number is bigger\n",
        "a = 4\n",
        "b = 7\n",
        "if a > b:\n",
        "  print(a, 'is bigger than', b)"
      ],
      "execution_count": null,
      "outputs": []
    },
    {
      "cell_type": "markdown",
      "metadata": {
        "id": "hPcNEHSd_Xt6"
      },
      "source": [
        "Nothing happens because a [4] is not bigger than b [7]"
      ]
    },
    {
      "cell_type": "code",
      "metadata": {
        "id": "iBUghMN4_qca"
      },
      "source": [
        "# Let's add an else in case the initial statement evaluates to False\n",
        "a = 4\n",
        "b = 7\n",
        "c = 12\n",
        "if a > b:\n",
        "  print(a, 'is bigger than', b)\n",
        "else:\n",
        "  print(b, 'is bigger than', a)"
      ],
      "execution_count": null,
      "outputs": []
    },
    {
      "cell_type": "markdown",
      "metadata": {
        "id": "I0frv_jjANbH"
      },
      "source": [
        "It is very important to notice that Python uses indentation (whitespace at the beginning of a line) to define the scope. So after the *if* and *else* statements all lines that are indented will be executed if that particular statement evaluates to true!\n",
        "\n",
        "Indents are usually done by using the 'tab' key instead of the 'spacebar'."
      ]
    },
    {
      "cell_type": "code",
      "metadata": {
        "id": "2in31fmKAnuO"
      },
      "source": [
        "# This is not indented correctly and thus will throw an error\n",
        "a = 4\n",
        "b = 7\n",
        "if a > b:\n",
        "print(a, 'is bigger than', b)"
      ],
      "execution_count": null,
      "outputs": []
    },
    {
      "cell_type": "code",
      "metadata": {
        "id": "xgDvr5AdAwZl"
      },
      "source": [
        "# If the statement is False everything indented under it will not be executed\n",
        "# But anything outside it (not indented) will be executed\n",
        "a = 4\n",
        "b = 7\n",
        "if a > b:\n",
        "  print(a, 'is bigger than', b)\n",
        "\n",
        "print('This is outside of the scope and will thus print')"
      ],
      "execution_count": null,
      "outputs": []
    },
    {
      "cell_type": "markdown",
      "metadata": {
        "id": "OmEhzDjrCAWn"
      },
      "source": [
        " Finally if you want to test more than one condition you can use **elif** which is short for **else if**, this functions as another **if** statement that Python will check in case the first **if** evaluates to false"
      ]
    },
    {
      "cell_type": "code",
      "metadata": {
        "id": "oZqMqg5GBRcv"
      },
      "source": [
        "a = 4\n",
        "b = 4\n",
        "if a > b:\n",
        "  print(a, 'is bigger than', b)\n",
        "elif a < b:\n",
        "  print(a, 'is smaller than', b)\n",
        "elif a == b:\n",
        "  print(a, 'is equal to', b)\n",
        "\n",
        "# Can you rewrite this statement to use if, elif and else once each?"
      ],
      "execution_count": null,
      "outputs": []
    },
    {
      "cell_type": "markdown",
      "metadata": {
        "id": "Vv1FNvGc0XVX"
      },
      "source": [
        "### Loops\n",
        "The nice things about computers is that they can do repetitive tasks really fast and really accurate. What this means in practice is that you write your analysis for one participant and then let the computer **loop** over all participants. This is getting close to writing an analysis!\n",
        "\n",
        "There's two types of loops **while** and **for** loops.\n",
        "**While loops** keep running until a condition is met and **for loops** run for a prespecified amount."
      ]
    },
    {
      "cell_type": "markdown",
      "metadata": {
        "id": "VPWYF2TsJWjB"
      },
      "source": [
        "#### While loops\n",
        "Run until a condition is met"
      ]
    },
    {
      "cell_type": "code",
      "metadata": {
        "id": "hpgWkQ6bDVeb"
      },
      "source": [
        "# Let's print out the participant numbers we have collected\n",
        "numPar = 5 # Let's say we have 5 participants in total\n",
        "i = 1 # We start counting with one\n",
        "\n",
        "while i < numPar: # While checks if this is true, for the first loop it will look like 1 < 5 and thus run\n",
        "  print(i) \n",
        "  i = i + 1 # Here we make the counter increase by 1, \n",
        "  # If we don't add a counter we get an infinite loop! (i.e., a while loop that keeps running forever)\n",
        "  # If this ever happens you can press the stop button in the upper left corner to abort the process"
      ],
      "execution_count": null,
      "outputs": []
    },
    {
      "cell_type": "code",
      "source": [
        "# Let's create an infinite loop and see what happens\n",
        "# Run at your own risk!\n",
        "u = 1\n",
        "while u < 2:\n",
        "  print('I will never stop running!')"
      ],
      "metadata": {
        "id": "hJ9bJZe5q8wk"
      },
      "execution_count": null,
      "outputs": []
    },
    {
      "cell_type": "code",
      "metadata": {
        "id": "HbN1XTbjEjZk"
      },
      "source": [
        "# Can you create a while loop that counts back from 10 to 0?\n"
      ],
      "execution_count": null,
      "outputs": []
    },
    {
      "cell_type": "markdown",
      "metadata": {
        "id": "rL_N7tXGJUZe"
      },
      "source": [
        "#### For loops\n",
        "Run for a specific amount of iterations\n",
        "\n",
        "-=-=-=-=-=-=-=-=-=-=-=-=-=-=-=-=-=-=-=-=-=-=-=-=-=-=-=-=-=-=-=-=-=-=-=-=-=-=-=-=\n",
        "\n",
        "You can read a for loop as follows:\n",
        "\n",
        "First, you initialize a list of numbers that you want to go over one by one.\n",
        "\n",
        "Usually you use the function range() for this because it creates a list of increasing numbers, but you can also use a custom list you wrote yourself.\n",
        "\n",
        "The for loop starts at the beginning and gives you the first number in the list.\n",
        "You can do some operations (with this number).\n",
        "\n",
        "Once you are done the loop will present the next number."
      ]
    },
    {
      "cell_type": "code",
      "metadata": {
        "id": "BUBX-rR7JbW2"
      },
      "source": [
        "# For loops run for a prespecified amount of iterations\n",
        "# You can use the range() function to run over a specified number of integers\n",
        "for x in range(5): # range(5) gives a list of numbers like this: [0, 1, 2, 3, 4]\n",
        "  print(x) # Here is where you do something, in this case, only printing the current number saved in 'x'"
      ],
      "execution_count": null,
      "outputs": []
    },
    {
      "cell_type": "code",
      "metadata": {
        "id": "uCQzjEXqKDfb"
      },
      "source": [
        "# Alternatively you can loop over a list\n",
        "fruit = [\"apple\", \"banana\", \"cherry\", \"orange\", \"kiwi\", \"melon\", \"mango\"]\n",
        "for x in fruit:\n",
        "  print(x)\n",
        "\n",
        "# Can you add code to this so that adds a comment on a fruit\n",
        "# e.g., add \"hmmm\" for when x is \"banana\"\n",
        "# Hint: Conditional Statements"
      ],
      "execution_count": null,
      "outputs": []
    },
    {
      "cell_type": "code",
      "source": [
        "# Can you loop over a specific list of numbers and print them out?\n",
        "# Let's say: [1,5,7,3,63,4]\n",
        "for i in [1,2,4,6]:\n",
        "  print(i)\n",
        "\n",
        "# Can you print each number multiplied by another number?"
      ],
      "metadata": {
        "id": "VTo2aDnGuZD-",
        "colab": {
          "base_uri": "https://localhost:8080/"
        },
        "outputId": "ab9bf65e-7ff8-462f-c577-46f5e712732f"
      },
      "execution_count": null,
      "outputs": [
        {
          "output_type": "stream",
          "name": "stdout",
          "text": [
            "1\n",
            "2\n",
            "4\n",
            "6\n"
          ]
        }
      ]
    },
    {
      "cell_type": "markdown",
      "metadata": {
        "id": "kgNTUb4FkJWf"
      },
      "source": [
        "# Functions\n",
        "Functions are the bread and butter of programming. That is, most things you will program at some point will be captured in functions. They help you keep your code organized and compartmentalized. Functions can also easily be shared with others. Python has a lot of built-in functions that we use all the time!\n"
      ]
    },
    {
      "cell_type": "markdown",
      "source": [
        "###What is a function in broad strokes?\n",
        "\n",
        "Usually a function will provide one \"specific function\" i.e., it will only do one thing.\n",
        "\n",
        "You can pass data (parameters) into functions and most function will also return output data."
      ],
      "metadata": {
        "id": "jTWndUsBwUj1"
      }
    },
    {
      "cell_type": "code",
      "source": [
        "# Let's start with some built-in functions that you will use all the time!\n",
        "\n",
        "# len()\n",
        "# If you want to know the length of a list (or: dictionary, tuple) you can use len()\n",
        "# The parameter (e.g., the list) goes in between the brackets\n",
        "mylist = [1,2,3,4,5,6]\n",
        "len(mylist)"
      ],
      "metadata": {
        "id": "JI3s0r_pwkUe"
      },
      "execution_count": null,
      "outputs": []
    },
    {
      "cell_type": "code",
      "source": [
        "# Another built-in that is used a lot is sum()\n",
        "# As expected this will return the sum of the input list\n",
        "sum(mylist)"
      ],
      "metadata": {
        "id": "I2XfBozkztW8"
      },
      "execution_count": null,
      "outputs": []
    },
    {
      "cell_type": "code",
      "source": [
        "# Here is a full list of built-ins:\n",
        "# https://docs.python.org/3/library/functions.html\n",
        "# Can you implement one of these on the following list?\n",
        "\n",
        "test_list = [2,4,1,6,6,7,34,7,2]\n",
        "\n",
        "# Maybe max(), or min()?"
      ],
      "metadata": {
        "id": "NorbGWmz0BZB"
      },
      "execution_count": null,
      "outputs": []
    },
    {
      "cell_type": "markdown",
      "source": [
        "### Creating your own functions\n",
        "Let's have a look at how to create your own functions"
      ],
      "metadata": {
        "id": "gSlCrEdX0tMs"
      }
    },
    {
      "cell_type": "code",
      "metadata": {
        "id": "oPa7mPqsSTgN"
      },
      "source": [
        "# To initialize/ define a function you use the keyword 'def'\n",
        "# Let's create a simple function that just prints 'Hello!'\n",
        "def helloFunc():\n",
        "  print('Hello!')"
      ],
      "execution_count": null,
      "outputs": []
    },
    {
      "cell_type": "code",
      "metadata": {
        "id": "EmYfUujpSsE9"
      },
      "source": [
        "# When you run the above code block nothing will happen (except for the function being created).\n",
        "# A function will only function (lol) when it's called\n",
        "helloFunc()"
      ],
      "execution_count": null,
      "outputs": []
    },
    {
      "cell_type": "code",
      "metadata": {
        "id": "KtFBxRF2S7Z7"
      },
      "source": [
        "# You can add arguments (or parameters) to functions, by adding them between the ()\n",
        "# Let's create a function that returns a name with a greeting!\n",
        "def helloName(name):\n",
        "  print('Hello: ' + name)\n",
        "\n",
        "# Let's call the function with a name string\n",
        "helloName('Peter')\n",
        "# What happens when you input a number instead of a string?"
      ],
      "execution_count": null,
      "outputs": []
    },
    {
      "cell_type": "code",
      "metadata": {
        "id": "rXrJ1eRcTfFN"
      },
      "source": [
        "# Functions can also return arguments!\n",
        "# This is particularly handy when you do analyses and such!\n",
        "# Let's create a function that returns the sum of two input values\n",
        "def sumFunc(varA,varB):\n",
        "  return varA+varB # Return gives it back\n",
        "\n",
        "sumAB = sumFunc(4,5) # In this case we first save the output to variable sumAB\n",
        "print(sumAB) # And then print the output from this variable"
      ],
      "execution_count": null,
      "outputs": []
    },
    {
      "cell_type": "code",
      "metadata": {
        "id": "xxKBXea4UiuO"
      },
      "source": [
        "numList = [0, 1, 2, 3, 4, 5, 6, 7, 8, 9, 10]\n",
        "# Can you create a function that takes as input numList\n",
        "# In that function it needs to loop over each number and print whether the number is bigger than 5\n",
        "\n",
        "# Can you create a function that takes a second input to check the numbers against the input instead of the 5?\n",
        "\n",
        "# Can you create a function that checks if each number is odd or even? (hint modulo)"
      ],
      "execution_count": null,
      "outputs": []
    },
    {
      "cell_type": "markdown",
      "metadata": {
        "id": "gwbAJm2gkL-P"
      },
      "source": [
        "# Googling your problems\n",
        "Some percentage high in the 90ies is the amount of time a programmer is Googling to find a solution to her problems (and this is only a slight exaggeration).\n",
        "\n",
        "Getting good a Googling is therefore a seriously valuable skill to learn if you want to learn to program well.\n",
        "\n",
        "What usually helps is writing the name of your programming language first and then a short description of the function or error you are getting.\n",
        "Let's say I want to know the length of a list, some combination of the keywords: **Python, List & Length** will probably give you good results!\n",
        "\n",
        "Websites with solid answers are: [Python Documentation](https://www.python.org/doc/), [Stack Overflow](https://stackoverflow.com/questions/tagged/python), and tons and tons of blogs like [w3schools](https://www.w3schools.com/python/default.asp), [FreeCodeCamp](https://www.freecodecamp.org/news/best-python-tutorial/), [etc](https://duckduckgo.com/?q=help+my+python+doesn%27t+do+what+i+want+and+now+i+am+crying&t=ffab&ia=web).\n",
        "\n",
        "When you get a little further with Python you often don't know exactly what you are looking for. Try to look for the essence of your problem (what is the specific thing you would like to solve), sometimes it also helps to instead Google the problem you are facing.\n",
        "\n",
        "Over time your problem solving skillset will grow, this combined with your expert Google-Fu will make it so that you can solve any problem!"
      ]
    },
    {
      "cell_type": "markdown",
      "metadata": {
        "id": "j0kraNUNSF-S"
      },
      "source": [
        "### Lets use all your knowledge of Operators, Conditionals, Loops and functions to create some statistical functions!\n",
        "\n",
        "If we want to analyse some data we should create some functions that can help us out!\n",
        "\n",
        "\n",
        "\n",
        "1.   Let's create a function that finds the mean of a given list!\n",
        "2.   Let's create a function that finds the [standard deviation](https://en.wikipedia.org/wiki/Standard_deviation) of a given list. You can call your mean function in this function!\n",
        "3.   One sample t-test??"
      ]
    },
    {
      "cell_type": "code",
      "metadata": {
        "id": "_hkJgyOzd-yE"
      },
      "source": [
        "# Mean Function"
      ],
      "execution_count": null,
      "outputs": []
    },
    {
      "cell_type": "code",
      "metadata": {
        "id": "9viIXPd1jYBd"
      },
      "source": [
        "# Standard Deviation Function"
      ],
      "execution_count": null,
      "outputs": []
    },
    {
      "cell_type": "markdown",
      "metadata": {
        "id": "eTvfl8LwkPbM"
      },
      "source": [
        "# Libraries\n",
        "Now of course it is fun to make your own functions! But it's also pretty time consuming and probably not very efficient code for real data. Luckily there are tons of other people who have created very beautiful, fast and elegant code that you are completely free to use! These are called libraries and you can basically find them for everything!\n",
        "\n",
        "This is really cool and helpful but can be a little confusing at first because you have to go through some steps to get them to work:\n",
        "\n",
        "1.   Find a library you want to use (e.g., [numpy](https://numpy.org/), [scipy](https://scipy.org/), [pandas](https://pandas.pydata.org/), [matplotlib](https://matplotlib.org/), a lot of them can be found on [pypi](https://pypi.org/))\n",
        "2.   Install the library on your computer (you usually use [pip](https://pypi.org/project/pip/) or [conda](https://anaconda.org/anaconda/conda) (if you use Anaconda) for this)\n",
        "3.   Import the library (or a subcomponent) at the start of your code\n",
        "4.   Use the functions that you were looking for\n",
        "\n",
        "This goes pretty fast once you're used to the system!\n",
        "\n",
        "Luckily for us Colab has most Libraries we ever want to use already installed! So all we have to do is import them and start using them!"
      ]
    },
    {
      "cell_type": "code",
      "metadata": {
        "id": "VM6ud1R7g_TP"
      },
      "source": [
        "import numpy as np # using as .. we can give our library a shorter name!\n",
        "mylist = [1,2,3,4,5,6,7,8,9,1,1,3]\n",
        "\n",
        "# First we need to convert the list to a numpy array\n",
        "my_array = np.asarray(mylist)\n",
        "print(type(my_array)) # You can see that my_array has become an n-dimensional numpy array\n",
        "\n",
        "# Now we can do numpy stuff on it!\n",
        "print('The mean is: ', my_array.mean())\n",
        "print('The standard deviation is: ', my_array.std())\n",
        "\n",
        "# Can you calculate the median as well?\n",
        "# Can you find the size of the array?\n",
        "\n",
        "# Can you create a matrix filled with zeros of size [3,5]?"
      ],
      "execution_count": null,
      "outputs": []
    },
    {
      "cell_type": "markdown",
      "metadata": {
        "id": "CdTAezfPir5K"
      },
      "source": [
        "Can you do the same stuff we did using Numpy but now with [Pandas](https://pandas.pydata.org/)?"
      ]
    },
    {
      "cell_type": "code",
      "metadata": {
        "id": "wvmY2Wi_i-Fi"
      },
      "source": [
        "# Yes you can!"
      ],
      "execution_count": null,
      "outputs": []
    }
  ]
}