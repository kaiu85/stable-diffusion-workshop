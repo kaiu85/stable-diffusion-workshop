{
 "cells": [
  {
   "cell_type": "markdown",
   "metadata": {},
   "source": [
    "##### Positiver Prädiktiver Wert eines binären Tests\n",
    "\n",
    "In der folgenden Übung wollen wir uns anschauen, wie man für einen binären Test (der nur zwei mögliche Ergebnisse, positiv oder negativ liefert) aus den Kennwerten Sensitivität und Spezifität, sowie aus der Vortestwahrscheinlichkeit, den positiven Prädiktiven Wert berechnen kann.\n",
    "\n",
    "Zuerst wiederholen wir einige Python-Grundlagen"
   ]
  },
  {
   "cell_type": "code",
   "execution_count": null,
   "metadata": {},
   "outputs": [],
   "source": [
    "# Numpy ist *die* Bibliothek für numerische Operationen in Python\n",
    "# und wird fast immer als \"np\" importiert\n",
    "import numpy as np\n",
    "\n",
    "# Die arange-Funktion erzeugt einen Vektor (i.e. eine eindimensionale Reihe von Zahlen)\n",
    "# Die Argumente sind der minimale Wert, der noch in der Liste ist (\"Startwert\"), der minimale Wert, der gerade\n",
    "# nicht mehr in der Liste ist (\"obere Schranke\"), und die Schrittweite zwischen aufeinanderfolgenden einträgen.\n",
    "x = np.arange(0,10,0.1)\n",
    "\n",
    "# Wir geben die Liste aus\n",
    "print('Werte in x:')\n",
    "print(x)"
   ]
  },
  {
   "cell_type": "markdown",
   "metadata": {},
   "source": [
    "Sie sehen, dass die Werte in der Liste von 0 bis 9.9 reichen und immer um 0.1 erhöht werden. D.h. die \n",
    "Zahlenreihe startet bei 0 (erstes Argument von __np.arange__), wird immer um 0.1 erhöht (letztes Argument),\n",
    "so lange bis die nächste Zahl größer oder gleich 10 wäre (zweites Argument).\n",
    "\n",
    "Versuchen sie, in der nächsten Zeile einen Vektor zu erzeugen, dessen Einträge von 0 bis 0.99 reichen und immer um\n",
    "0.01 erhöht werden."
   ]
  },
  {
   "cell_type": "code",
   "execution_count": null,
   "metadata": {},
   "outputs": [],
   "source": [
    "# Zuerst erstellen wir uns einen Vektor für die x-Werte\n",
    "#### Hier steht ihr Code\n"
   ]
  },
  {
   "cell_type": "markdown",
   "metadata": {},
   "source": [
    "<details><summary>Klicken sie <b>hier</b> für eine mögliche Lösung</summary>\n",
    "<p>\n",
    "\n",
    "```python\n",
    "x = np.arange(0,1,0.01)\n",
    "\n",
    "print('Werte in x:')\n",
    "print(x)\n",
    "```\n",
    "\n",
    "</p>\n",
    "</details>\n",
    "\n",
    "Super! Als nächstes schauen wir uns noch kurz an, wie man einfache Kurven in Python darstellen kann.\n",
    "Erstmal brauchen wir ein paar \"Daten\", die wir darstellen können. Dazu kommt uns arange gerade recht.\n",
    "Wir fangen mit den x-Werten an."
   ]
  },
  {
   "cell_type": "markdown",
   "metadata": {},
   "source": [
    "Jetzt kommen wir zu den y-Werten. In numpy ist es so: Für zwei Vektoren a und b, welche die gleiche Anzahl an Einträgen haben, kann man die einzelnen einträge dieser beiden Vektoren paarweise miteinander multiplizieren, so dass ein neuer Vektor entsteht dessen Einträge gerade die Produkte der entsprechenden Einträge von a und b sind.\n",
    "Ein Beispiel sollte das klarer machen:"
   ]
  },
  {
   "cell_type": "code",
   "execution_count": null,
   "metadata": {},
   "outputs": [],
   "source": [
    "a = np.asarray([1, 2, 3]);\n",
    "b = np.asarray([7, 8, 9]);\n",
    "\n",
    "c = a * b;\n",
    "\n",
    "print(c)"
   ]
  },
  {
   "cell_type": "markdown",
   "metadata": {},
   "source": [
    "Hierbei wandelt np.asarray die Listen in entsprechende numpy-Objekte (in diesem Fall Vektoren) um.\n",
    "__Sie sehen, dass der erste Eintrag von c gerade dem ersten Eintrag von a mal dem ersten Eintrag von b entspricht, und so weiter.__\n",
    "Das ganze geht auch für Summe, Differenz und Quotient."
   ]
  },
  {
   "cell_type": "code",
   "execution_count": null,
   "metadata": {},
   "outputs": [],
   "source": [
    "a = np.asarray([1, 2, 3])\n",
    "b = np.asarray([2, 3, 4])\n",
    "\n",
    "c = a / b;\n",
    "\n",
    "print(c)"
   ]
  },
  {
   "cell_type": "markdown",
   "metadata": {},
   "source": [
    "Man kann auch einen Vektor mit einer einzelnen Zahl (man sagt dazu ein \"Skalar\") multiplizieren, oder eine\n",
    "einzelne Zahl addieren, subtrahieren, oder durch diese dividieren."
   ]
  },
  {
   "cell_type": "code",
   "execution_count": null,
   "metadata": {},
   "outputs": [],
   "source": [
    "a = np.asarray([1, 2, 3])\n",
    "d = 2\n",
    "\n",
    "c = a * d;\n",
    "\n",
    "print(c)"
   ]
  },
  {
   "cell_type": "markdown",
   "metadata": {},
   "source": [
    "Zurück zu unserem Kurvenbeispiel. Bis jetzt haben wir den Vektor x.\n",
    "\n",
    "Nehmen wir an, wir würden gerne als y-Werte das Quadrat der x-Werte berechnen.\n",
    "\n",
    "Mit dem Wissen von oben können wir dafür z.B. folgendes tun:"
   ]
  },
  {
   "cell_type": "code",
   "execution_count": null,
   "metadata": {},
   "outputs": [],
   "source": [
    "y = x*x\n",
    "\n",
    "print(y)"
   ]
  },
  {
   "cell_type": "markdown",
   "metadata": {},
   "source": [
    "Zur Darstellung der x-y-Kurve benutzen wir [matplotlib](https://matplotlib.org/)."
   ]
  },
  {
   "cell_type": "code",
   "execution_count": null,
   "metadata": {},
   "outputs": [],
   "source": [
    "# Wir importieren matplotlib\n",
    "import matplotlib.pyplot as plt\n",
    "# Wir sagen matplotlib, dass es in einem Notebook ausgeführt wird\n",
    "# und die Graphiken direkt in das Notebook zeichnen soll.\n",
    "%matplotlib inline\n",
    "\n",
    "# plot(x,y) Zeichnet eine Kurve. Hierbei müssen die Vektoren, die die \n",
    "# x und y-Werte enthalten gleich lang sein.\n",
    "plt.plot(x,y)\n",
    "\n",
    "# Mit title geben wir den Graphik eine Überschrift\n",
    "plt.title('Eine quadratische Funktion')\n",
    "\n",
    "# Man sollte **immer** die Achsen seiner Abbildungen beschriften\n",
    "plt.xlabel('x')\n",
    "plt.ylabel('y=x*x')\n",
    "\n",
    "# Wir zeigen die entsprechende Graphik an\n",
    "plt.show()"
   ]
  },
  {
   "cell_type": "markdown",
   "metadata": {},
   "source": [
    "## Positiver Prädiktiver Wert\n",
    "\n",
    "So, jetzt können wir zum eigentlichen Inhalt kommen. \n",
    "\n",
    "Im folgenden reden wir über einen einfachen Test, der positiv sein soll, wenn eine Erkrankung vorliegt, und negativ, wenn keine Erkrankung vorliegt.\n",
    "\n",
    "### Basics\n",
    "\n",
    "Wir erinnern uns kurz an die entsprechenden Definitionen. Die Sensitivität eines Testes ist die \n",
    "Wahrscheinlichkeit, dass der Test positiv ausfällt, wenn eine erkrankte Person getestet wird.\n",
    "In der Sprache der bedingten Wahrscheinlichkeiten kann man das schreiben als:\n",
    "\n",
    "$$ \\mathrm{ Sensitivität = P( Test\\ ist\\ positiv | Person\\ ist\\ erkrankt ) } $$\n",
    "\n",
    "Hierbei liest man $P( A | B )$ als die Wahrscheinlichkeit für das Ereignis A, wenn man beobachtet hat, dass\n",
    "die Bedingung B erfüllt ist. Man sagt: \"Die Wahrscheinlichkeit von A gegeben B\".\n",
    "\n",
    "Die Spezifität eines Testes bezeichnet die Wahrscheinlichkeit, dass der Test negativ ausfällt, wenn eine\n",
    "gesunde Person getestet wird. Man kann dies wiederum schreiben als:\n",
    "\n",
    "$$ \\mathrm{ Spezifität = P( Test\\ ist\\ negativ | Person\\ ist\\ gesund ) } $$ \n",
    "\n",
    "Die Vortestwahrscheinlichkeit gibt an, wie wahrscheinlich es ist, dass eine Person, die wir testen möchten, erkrankt ist, bevor wir den Test veranlasst haben.\n",
    "\n",
    "$$ \\mathrm{ Vortestwahrscheinlichkeit = P( Person\\ ist\\ erkrankt) } $$\n",
    "\n",
    "Eine erste, krude Annäherung ist die Prävalenz einer Erkrankung. Für eine konkrete Person, die man testen möchte, kann man die Prätestwahrscheinlichkeit eventuell weiter präzisieren, wenn z.B. Daten darüber vorhanden sind, wie die Wahrscheinlichkeit der Erkrankung von verschiedenen demographischen Faktoren und Risikofaktoren abhängt, die man für diese Person kennt. Dies erlaubt es dann z.B., diese Wahrscheinlichkeit mit klinischen Scores noch etwas besser zu Quantifizieren. In der Praxis ist die Einschätzung der Vortestwahrscheinlichkeit jedoch *sehr* komplex und es handelt sich oft eher um einen gut informierten \"educated guess\".\n",
    "\n",
    "### Der Positive Prädiktive Wert und der Satz von Bayes\n",
    "\n",
    "Wofür wir uns oft interessieren, wenn es z.B. darum geht weitere Diagnostik oder Therapie\n",
    "als Antwort auf ein positives Testergebnis in die Wege zu leiten, ist der Positive Prädiktive Wert (PPV).\n",
    "Das ist die Wahrscheinlichkeit, dass eine Person, die positiv getestet wird, tatsächlich auch wirklich erkrankt ist.\n",
    "\n",
    "$$ \\mathrm{ Positiver\\ Prädiktiver\\ Wert = P( Person\\ ist\\ erkrankt | Test\\ ist\\ positiv) } $$\n",
    "\n",
    "Das Umrechnen von Sensitivität, Spezifität und Vortestwahrscheinlichkeit in den Positiven Prädiktiven Wert eines Testes is ein Spezialfall des Satzes von Bayes, den der presbyterianische Landpfarrer [Thomas Bayes](https://en.wikipedia.org/wiki/Thomas_Bayes) im 18. Jahrhundert entdeckt hat. Dieser beschreibt, wie man\n",
    "bedingte Wahrscheinlichkeiten ineinander Umrechnet. Er lautet:\n",
    "\n",
    "$$P(B|A) = \\frac{P(A|B)P(B)}{P(A)}$$\n",
    "\n",
    "Aus dieser Formel lässt sich mit etwas Mathematik die folgende Formel für unseren Spezialfall ableiten:\n",
    "\n",
    "$$P(krank|positiv) = \\frac{P(positiv|krank)P(krank)}{ P(positiv|krank)P(krank) + \\underbrace{(1.0- P(negativ|gesund))}_{P(positiv|gesund)}\\underbrace{(1.0 - P(krank))}_{P(gesund)}}$$\n",
    "\n",
    "Oder anders geschrieben:\n",
    "\n",
    "$$\\mathrm{Positiver\\ Prädiktiver\\ Wert = \\frac{Sensitivität\\cdot Vortestwahrscheinlichkeit}{ Sensitivität\\cdot Vortestwahrscheinlichkeit + (1.0- Spezifität)\\cdot(1.0-Vortestwahrscheinlichkeit)}}$$\n",
    "\n",
    "Mit dieser Formel bewaffnet, können sie jetzt ein kleines Programm schreiben, welches für ein gegebene\n",
    "Sensitivität und Spezifität, sowie einen gegebenen Bereich von Vortestwahrscheinlichkeiten,\n",
    "die entsprechenden Positiven Prädiktiven Werte berechnen und als Funktion der Vortestwahrscheinlichkeit\n",
    "graphisch darstellt.\n",
    "\n",
    "NB: (1.0- Spezifität) wird auch auch als Falsch-positiv-Rate (FPR) und Sensitivität als Richtig-negativ-Rate (TPR) bezeichnet. Weitere Details finden sie [hier](https://de.wikipedia.org/wiki/Beurteilung_eines_bin%C3%A4ren_Klassifikators#Falsch-positiv-Rate)."
   ]
  },
  {
   "cell_type": "code",
   "execution_count": null,
   "metadata": {},
   "outputs": [],
   "source": [
    "#### Eingaben: Sensitivität und Spezifität des Tests\n",
    "sensitivity = 0.9\n",
    "specificity = 0.9\n",
    "\n",
    "#### Bereich der Vortestwahrscheinlichkeiten\n",
    "pretest_probability = np.arange(0,0.10,0.001)\n",
    "\n",
    "#### Hier steht ihr Code für die Berechnung des PPV\n",
    "ppv = \n",
    "\n",
    "#### Graphische Darstellung\n",
    "plt.plot(pretest_probability, ppv)\n",
    "plt.title('PPV als Funktion der Prätest-Wahrscheinlichkeit')\n",
    "plt.xlabel('Vortestwahrscheinlichkeit')\n",
    "plt.ylabel('PPV')\n",
    "plt.show()"
   ]
  },
  {
   "cell_type": "markdown",
   "metadata": {},
   "source": [
    "<details><summary>Klicken sie hier für eine mögliche Lösung</summary>\n",
    "<p>\n",
    "\n",
    "```python\n",
    "\n",
    "#### Eingaben: Sensitivität und Spezifität des Tests\n",
    "sensitivity = 0.9\n",
    "specificity = 0.9\n",
    "\n",
    "#### Bereich der Vortestwahrscheinlichkeiten\n",
    "pretest_probability = np.arange(0,0.10,0.001)\n",
    "\n",
    "#### Hier steht ihr Code\n",
    "\n",
    "## Wir verwenden direkt die obige Formel. Da es sich bei pretest_probability um einen\n",
    "## Vektor und bei allen anderen größen um Skalare handelt, können wir direkt schreiben:\n",
    "    \n",
    "ppv = sensitivity*pretest_probability / ( sensitivity*pretest_probability + (1.0 - specificity)*(1.0 - pretest_probability)  )\n",
    "\n",
    "#### Graphische Darstellung\n",
    "plt.plot(pretest_probability, ppv)\n",
    "plt.title('PPV als Funktion der Prätest-Wahrscheinlichkeit')\n",
    "plt.xlabel('Vortestwahrscheinlichkeit')\n",
    "plt.ylabel('PPV')\n",
    "plt.show()\n",
    "\n",
    "```\n",
    "\n",
    "</p>\n",
    "</details>"
   ]
  },
  {
   "cell_type": "markdown",
   "metadata": {},
   "source": [
    "Sehr gut! Als letzte Übung, schauen sie sich an, wie sich die obige Kurve für einen Bereich der Vortestwahrscheinlichkeit zwischen 0 und 10% ändert, wenn die Sensitivität und Spezifität jeweils von 0.9 auf 0.999 erhöht werden. Diskutieren sie mit ihren Mitstudierenden darüber.\n",
    "\n",
    "Falls sie die beiden Kurven direkt miteinander vergleichen wollen, können sie auch versuchen, beide Kurven zu berechnen und in ein Diagramm zu plotten. Den Code dafür finden sie im folgenden Hinweis, aber überlegen sie vorher auch gerne selbst, wie sie an das Problem herangehen würden.\n",
    "<details><summary>Für Code, der beide Kurven übereinander Plottet, klicken sie hier</summary>\n",
    "<p>\n",
    "\n",
    "```python\n",
    "\n",
    "#### Eingaben: Sensitivität und Spezifität des ersten Tests\n",
    "sensitivity1 = 0.9\n",
    "specificity1 = 0.9\n",
    "    \n",
    "#### Eingaben: Sensitivität und Spezifität des zweiten Tests\n",
    "sensitivity2 = 0.999\n",
    "specificity2 = 0.999\n",
    "\n",
    "#### Bereich der Vortestwahrscheinlichkeiten\n",
    "pretest_probability = np.arange(0,0.10,0.001)\n",
    "\n",
    "#### PPV-Kurve des ersten Tests\n",
    "\n",
    "ppv1 = sensitivity1*pretest_probability / ( sensitivity1*pretest_probability + (1.0 - specificity1)*(1.0 - pretest_probability)  )\n",
    "    \n",
    "#### PPV-Kurve des zweiten Tests\n",
    "\n",
    "ppv2 = sensitivity2*pretest_probability / ( sensitivity2*pretest_probability + (1.0 - specificity2)*(1.0 - pretest_probability)  )\n",
    "\n",
    "#### Plotting\n",
    "plt.plot(pretest_probability, ppv1, label = 'Test 1')\n",
    "plt.plot(pretest_probability, ppv2, label = 'Test 2')    \n",
    "plt.title('PPV als Funktion der Prätest-Wahrscheinlichkeit')\n",
    "plt.xlabel('Vortestwahrscheinlichkeit')\n",
    "plt.ylabel('PPV')\n",
    "plt.legend()\n",
    "plt.show()\n",
    "\n",
    "```\n",
    "\n",
    "</p>\n",
    "</details>"
   ]
  },
  {
   "cell_type": "markdown",
   "metadata": {},
   "source": [
    "# Zusatzaufgaben\n",
    "\n",
    "Eine weitere wichtige größe ist der Negative Prädiktive Wert, der die Wahrscheinlichkeit angibt, dass eine Person tatsächlich gesund ist, wenn der Test negativ ausgefallen ist.\n",
    "\n",
    "$$ \\mathrm{ Negativer\\ Prädiktiver\\ Wert = P( Person\\ ist\\ gesund | Test\\ ist\\ negativ) } $$\n",
    "\n",
    "Für den Negativen Prädiktiven Wert kann man ebenfalls mit Hilfe des Satzes von Bayes eine Formel ableiten, die nur die Sensitivität, Spezifität und die Vortestwahrscheinlichkeit enthält.\n",
    "\n",
    "$$ \\mathrm{ P(gesund|negativ) = \\frac{P(negativ|gesund)\\overbrace{(1.0 - P(krank))}^{P(gesund)}}{ P(negativ|gesund)\\underbrace{(1.0 - P(krank))}_{P(gesund)} + \\underbrace{(1.0 - P(positiv|krank))}_{P(negativ|krank)}P(krank)} }$$\n",
    "\n",
    "Oder anders geschrieben:\n",
    "\n",
    "$$\\mathrm{Negativer\\ Prädiktiver\\ Wert = \\frac{Spezifität\\cdot (1.0 - Vortestwahrscheinlichkeit)}{ Spezifität\\cdot (1.0 - Vortestwahrscheinlichkeit) + (1.0 - Sensitivität)\\cdot Vortestwahrscheinlichkeit}}$$\n",
    "\n",
    "Falls sie möchten, können sie die Übung von oben nochmal für den Negativen Prädiktiven Wert wiederholen, und auch hier wieder graphisch darstellen, wie dieser für gegebene Sensitivität und Spezifität von der Vortestwahrscheinlichkeit abhängt. Außerdem können sie nochmals untersuchen, wie diese Abhängigkeit sich verändert, wenn man Sensitivität und Spezifität eines Tests erhöht."
   ]
  },
  {
   "cell_type": "code",
   "execution_count": null,
   "metadata": {},
   "outputs": [],
   "source": []
  }
 ],
 "metadata": {
  "kernelspec": {
   "display_name": "Python 3",
   "language": "python",
   "name": "python3"
  },
  "language_info": {
   "codemirror_mode": {
    "name": "ipython",
    "version": 3
   },
   "file_extension": ".py",
   "mimetype": "text/x-python",
   "name": "python",
   "nbconvert_exporter": "python",
   "pygments_lexer": "ipython3",
   "version": "3.8.5"
  }
 },
 "nbformat": 4,
 "nbformat_minor": 4
}
