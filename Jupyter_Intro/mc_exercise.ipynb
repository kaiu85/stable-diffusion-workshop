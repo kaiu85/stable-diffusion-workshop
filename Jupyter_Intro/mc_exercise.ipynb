{
 "cells": [
  {
   "cell_type": "markdown",
   "metadata": {},
   "source": [
    "#### Übung zu Kontrollstrukturen - Multiple Choice Quiz\n",
    "\n",
    "Im folgenden wollen wir ein kleines Quizprogramm erstellen, dem man eine Liste mit\n",
    "Multiple-Choice Fragen und Antworten übergeben kann. Das Programm soll dann nacheinander\n",
    "die Fragen mit den Antwortoptionen präsentieren, eine Antwort einlesen und diese mit der richtigen Antwort vergleichen.\n",
    "\n",
    "Die Fragen sind in der Datei \"fragen.txt\" in diesem Ordner gespeichert. Diese Datei \n",
    "enthält zwei Fragen und sieht so aus:\n",
    "\n",
    "```python\n",
    "Welches ist der coolste Wahlfachtrack?\n",
    "Verteidigung gegen die dunklen Künste\n",
    "Digitale Medizin\n",
    "Geschichte der Zauberei\n",
    "Pflege magischer Geschöpfe\n",
    "1\n",
    "Die richtige Antwort bei der Integrierten ist:\n",
    "Heidelberg\n",
    "Leber\n",
    "C\n",
    "Pflege magischer Geschöpfe\n",
    "0\n",
    "```\n",
    "\n",
    "Eine Zeile enthält immer die Frage. Dann folgen vier Zeilen, die jeweils eine Antwortoption erhalten. Dann folgt\n",
    "eine Zahl, welche die richtige Antwort angibt. Beachten sie, dass wir hier die Python-Konvention verwenden, dass \n",
    "das __erste Element__ einer Liste immer die Nummer __0__ erhält.\n",
    "\n",
    "Danach schließt direkt die Zeile mit dem Fragetext der nächsten Frage an, und so weiter.\n",
    "\n",
    "Wir haben eine Hilfsfunktion gebastelt, die solch eine Fragendatei einließt und eine Liste mit\n",
    "Dictionaries ausgibt, die jeweils eine Frage darstellen."
   ]
  },
  {
   "cell_type": "code",
   "execution_count": null,
   "metadata": {},
   "outputs": [],
   "source": [
    "### Wir importieren aus der Datei hilfsfunktionen.py im selben Ordner die Funktion \n",
    "### \"lade_fragen_liste\"\n",
    "from hilfsfunktionen import lade_fragen_liste \n",
    "\n",
    "### Und wir laden die Fragen aus der Datei \"fragen.txt\" im selben Ordner.\n",
    "fragen = lade_fragen_liste('fragen.txt')"
   ]
  },
  {
   "cell_type": "markdown",
   "metadata": {},
   "source": [
    "Wie sie sehen, gibt die Funktion \"lade_fragen_liste\" auch gleich aus, wie viele Fragen eingelesen wurden.\n",
    "Betrachten wir die Variable \"fragen\" zunächst etwas genauer."
   ]
  },
  {
   "cell_type": "code",
   "execution_count": null,
   "metadata": {},
   "outputs": [],
   "source": [
    "print(fragen)"
   ]
  },
  {
   "cell_type": "markdown",
   "metadata": {},
   "source": [
    "Fragen ist also eine Liste aus zwei Elementen, wobei jedes Element ein Dictionary enthält, das eine komplette \"Frage\" (d.h. Fragentext, Antwortoptionen und korrekte Antwort) repräsentiert. Schauen wir \n",
    "uns das __erste Element__ der Liste an (beachte den __Index 0__)."
   ]
  },
  {
   "cell_type": "code",
   "execution_count": null,
   "metadata": {},
   "outputs": [],
   "source": [
    "print(fragen[0])"
   ]
  },
  {
   "cell_type": "markdown",
   "metadata": {},
   "source": [
    "Sie sehen, dass dieses Dictionary einen Eintrag \"frage\" enthält. Dieser beinhaltet den Fragentext als String.\n",
    "Außerdem enthält das Dictionary einen Eintrag \"antworten\". Dieser Eintrag besteht aus einer Liste aus Strings, \n",
    "wobei jeder eintrag dieser Liste eine Antwortoption enthält.\n",
    "Der letzte Eintrag \"korrekt\" enthält den Index der korrekten Antwortoption. Schauen wir uns das noch etwas \n",
    "genauer an."
   ]
  },
  {
   "cell_type": "code",
   "execution_count": null,
   "metadata": {},
   "outputs": [],
   "source": [
    "erste_frage = fragen[0]\n",
    "\n",
    "print(erste_frage['frage'])"
   ]
  },
  {
   "cell_type": "code",
   "execution_count": null,
   "metadata": {},
   "outputs": [],
   "source": [
    "print(erste_frage['antworten'])"
   ]
  },
  {
   "cell_type": "code",
   "execution_count": null,
   "metadata": {},
   "outputs": [],
   "source": [
    "print(erste_frage['korrekt'])"
   ]
  },
  {
   "cell_type": "code",
   "execution_count": null,
   "metadata": {},
   "outputs": [],
   "source": [
    "antworten_erste_frage = erste_frage['antworten']\n",
    "korrekte_antwort_erste_frage = erste_frage['korrekt']\n",
    "\n",
    "print('Die richtige Antwort auf die Frage:')\n",
    "print('\\n')\n",
    "print(erste_frage['frage'])\n",
    "print('\\n')\n",
    "print('ist')\n",
    "print('\\n')\n",
    "print(antworten_erste_frage[korrekte_antwort_erste_frage])"
   ]
  },
  {
   "cell_type": "markdown",
   "metadata": {},
   "source": [
    "Sie können sich gerne die Datei fragen.txt über das Jupyter-Interface anschauen. Man kann\n",
    "Textdateien damit genauso wie Notebooks öffnen und editieren. Falls sie möchten, fügen sie gerne noch \n",
    "ein paar Fragen (inklusive Antworten und Index der richtigen Antwortoption) hinzu.\n",
    "Wichtig ist dabei, die Formatkonvention \n",
    "\n",
    "__1 Zeile Fragentext, 4 Zeilen Antwortoptionen, 1 Zeile korrekte Antwortoption__ \n",
    "\n",
    "einzuhalten.\n",
    "\n",
    "## Erste Aufgabe\n",
    "\n",
    "Die __erste Aufgabe__ ist es nun, die Kontrollstruktur __\"for\"__ anzuwenden, um\n",
    "einmal durch die Liste der Fragen zu gehen und für jede Frage den Text der Frage und die Antwortoptionen\n",
    "mit Hilfe der __print()__ Funktion ausgebt. __print('\\n')__ gibt eine leere Zeile aus."
   ]
  },
  {
   "cell_type": "code",
   "execution_count": null,
   "metadata": {},
   "outputs": [],
   "source": [
    "### Hier beginnt ihr Code\n",
    "\n"
   ]
  },
  {
   "cell_type": "markdown",
   "metadata": {},
   "source": [
    "<details><summary>Klicken sie hier für eine mögliche Lösung</summary>\n",
    "<p>\n",
    "    \n",
    "```python\n",
    "for f in fragen:\n",
    "    print('Frage:')\n",
    "    print(f[\"frage\"])\n",
    "    print(\"\\n\")\n",
    "    \n",
    "    for i in range(len(f[\"antworten\"])):\n",
    "        print('Antwortoption %d: ' % i)\n",
    "        print(f[\"antworten\"][i])\n",
    "        \n",
    "    print(\"\\n\")\n",
    "```\n",
    "\n",
    "</p>\n",
    "</details>\n",
    "\n",
    "Das sieht schonmal sehr gut aus, ist aber noch nicht wirklich interaktiv.\n",
    "\n",
    "Damit es interaktiver wird, kann man mit dem Befehl __input()__ eine kleine Textbox erstellen, um einen\n",
    "Eingabetext einzulesen.\n",
    "\n",
    "Als Argument erhält die Funktion __input()__ einen kurzen Text, der vor der Eingabebox angezeigt wird.\n",
    "\n",
    "Probiert wir es einmal aus:"
   ]
  },
  {
   "cell_type": "code",
   "execution_count": null,
   "metadata": {},
   "outputs": [],
   "source": [
    "x = input('Geben sie hier einen Input ein und bestätigen sie mit Enter:')\n",
    "\n",
    "print('\\n')\n",
    "print('Sie haben folgende Eingabe gemacht:')\n",
    "print('\\n')\n",
    "print(x)"
   ]
  },
  {
   "cell_type": "markdown",
   "metadata": {},
   "source": [
    "Wunderbar, nun können wir auch Eingaben einlesen.\n",
    "\n",
    "Die Eingaben werden zunächst immer als String formatiert, auch wenn man nur eine Zahl eingibt. \n",
    "\n",
    "Schauen wir uns das mal an:\n"
   ]
  },
  {
   "cell_type": "code",
   "execution_count": null,
   "metadata": {},
   "outputs": [],
   "source": [
    "x = input('Geben sie die Zahl 11 ein und bestätigen sie mit Enter:')\n",
    "\n",
    "print('\\n')\n",
    "print('Sie haben folgende Eingabe gemacht:')\n",
    "print('\\n')\n",
    "print(x)"
   ]
  },
  {
   "cell_type": "markdown",
   "metadata": {},
   "source": [
    "Wenn wir die Eingabe jetzt aber mit dem __==__ - Operator mit der Zahl 11 vergleichen erhalten wir:"
   ]
  },
  {
   "cell_type": "code",
   "execution_count": null,
   "metadata": {},
   "outputs": [],
   "source": [
    "if 11 == x:\n",
    "    print(\"Gleich\")\n",
    "else:\n",
    "    print(\"Nicht gleich\")"
   ]
  },
  {
   "cell_type": "markdown",
   "metadata": {},
   "source": [
    "Das ist zunächst verwirrend. \n",
    "\n",
    "Was passiert ist, dass die Zeichenkette '11', die in x gespeichert ist, mit\n",
    "der Zahl 11 verglichen wird.\n",
    "\n",
    "Wenn wir den Input aus der Textbox ebenfalls als ganze Zahl (\"integer\") interpretieren wollen, müssen wir das Python\n",
    "explizit mitteilen. Dazu benutzt man die Funktion __int(x)__\n",
    "\n",
    "Schauen wir, was passiert, wenn wir x zunächst in eine Zahl umwandeln und dann mit der Zahl 11 vergleichen."
   ]
  },
  {
   "cell_type": "code",
   "execution_count": null,
   "metadata": {},
   "outputs": [],
   "source": [
    "if 11 == int(x):\n",
    "    print(\"Gleich\")\n",
    "else:\n",
    "    print(\"Nicht gleich\")"
   ]
  },
  {
   "cell_type": "markdown",
   "metadata": {},
   "source": [
    "Wunderbar, jetzt können wir die eingelesene Zahl direkt mit Zahlen vergleichen.\n",
    "\n",
    "\n",
    "## Zweite Aufgabe\n",
    "Damit sollten sie jetzt gerüstet sein, um die __zweite Aufgabe__ anzugehen:\n",
    "Erweitern sie ihren Code von oben mit Hilfe der Kontrollstruktur __\"if\"__ so, dass direkt nachdem eine Frage und die dazugehören Antwortoptionen\n",
    "präsentiert worden sind, eine entsprechende Antwort eingelesen wird. Vergleichen sie die gegebene\n",
    "Antwort mit der korrekten Antwort. Falls die Antwort korrekt war, teilen sie dies dem Nutzer mit,\n",
    "falls die Antwort falsch war, teilen sie dies ebenfalls mit und geben sie die korrekte Antwortoption aus. \n",
    "\n",
    "__Zusatz__: Berechnen Sie die Anzahl und den relativen Anteil der richtig beantworteten Fragen und teilen Sie diese dem Nutzer mit. "
   ]
  },
  {
   "cell_type": "code",
   "execution_count": null,
   "metadata": {},
   "outputs": [],
   "source": [
    "### Hier beginnt ihr Code\n",
    "    "
   ]
  },
  {
   "cell_type": "markdown",
   "metadata": {},
   "source": [
    "<details><summary>Klicken sie hier für eine mögliche Lösung</summary>\n",
    "<p>\n",
    "\n",
    "```python\n",
    "### Hier beginnt ihr Code\n",
    "richtig_beantwortet = 0\n",
    "for f in fragen:\n",
    "    print('Frage:')\n",
    "    print(f[\"frage\"])\n",
    "    print(\"\\n\")\n",
    "\n",
    "    for i in range(len(f[\"antworten\"])):\n",
    "        print('Antwort %d: ' % i)\n",
    "        print(f[\"antworten\"][i])\n",
    "\n",
    "    print(\"\\n\")\n",
    "\n",
    "    antwort = int(input(\"Ihre Antwort:\"))\n",
    "\n",
    "    if antwort == f[\"korrekt\"]:\n",
    "        print('Richtig! Sehr gut! :)')\n",
    "        richtig_beantwortet += 1\n",
    "    else:\n",
    "        print('Leider nicht korrekt. Die richtige Antwort war:')\n",
    "        print(f[\"antworten\"][f[\"korrekt\"]])\n",
    "\n",
    "    print(\"\\n\")\n",
    "    \n",
    "prozent_korrekt = richtig_beantwortet/len(fragen)\n",
    "print('Anzahl der richtig beantwortete Fragen: {} von {}'.format(richtig_beantwortet,len(fragen)))\n",
    "print('Relativer Anteil der richtig beantwortete Fragen: {}'.format(prozent_korrekt))\n",
    "```\n",
    "\n",
    "</p>\n",
    "</details>"
   ]
  },
  {
   "cell_type": "markdown",
   "metadata": {},
   "source": [
    "# Zusatzaufgaben\n",
    "\n",
    "Falls sie noch Zeit und Lust haben, können sie sich überlegen, wie man folgende Erweiterungen realisieren könnte:\n",
    "1. Bildfragen implementieren, so dass in einer Extrazeile unter jeder Frage in \"fragen.txt\" der Dateiname einer Bilddatei steht, die dann über/unter der Frage angezeigt wird?\n",
    "2. Verschieden viele Antwortmöglichkeiten erlauben?\n",
    "3. Verschieden viele richtige Antwortmöglichkeiten erlauben? (i.e. \"Welche der folgenden Aussagen ist richtig?:...\")\n",
    "4. Hinweise einbinden, die angezeit werden, wenn man eine Frage falsch beantwortet hat, so dass man nach dem Hinweis nochmal die Möglichkeit hat, seine Antwort zu ändern. \n",
    "5. Eventuell sogar abgestufte Hinweise implementieren, die so lange angezeigt werden, bis es zu einer Frage keine weiteren Hinweise mehr gibt, oder man die Frage richtig beantwortet hat."
   ]
  },
  {
   "cell_type": "code",
   "execution_count": null,
   "metadata": {},
   "outputs": [],
   "source": []
  }
 ],
 "metadata": {
  "kernelspec": {
   "display_name": "Python 3",
   "language": "python",
   "name": "python3"
  },
  "language_info": {
   "codemirror_mode": {
    "name": "ipython",
    "version": 3
   },
   "file_extension": ".py",
   "mimetype": "text/x-python",
   "name": "python",
   "nbconvert_exporter": "python",
   "pygments_lexer": "ipython3",
   "version": "3.8.5"
  }
 },
 "nbformat": 4,
 "nbformat_minor": 2
}
