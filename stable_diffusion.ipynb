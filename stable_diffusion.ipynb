{
  "cells": [
    {
      "cell_type": "markdown",
      "metadata": {
        "id": "gd-vX3cavOCt"
      },
      "source": [
        "# **Stable Diffusion** 🎨 \n",
        "*...using* 🤗 *Huggingface `🧨diffusers`*\n",
        "\n",
        "---\n",
        "\n",
        "This is a slightly modified version of [this](https://github.com/huggingface/notebooks/blob/main/diffusers/stable_diffusion.ipynb) great notebook by Huggingface. \n",
        "\n",
        "Please **remember** to **collect interesting findings** (e.g., prompts and generated images, interesting websites, thoughts and questions, which you would like to share with the group, ...) in [this slide deck](https://docs.google.com/presentation/d/1n5P9JIyYoISbRIfRgXvwmXFdETlPm1FQ_S7WuqKgqBo/edit?usp=sharing).\n",
        "\n",
        "---\n",
        "\n",
        "Stable Diffusion is a text-to-image latent diffusion model created by the researchers and engineers from [CompVis](https://github.com/CompVis) (formerly at Heidelberg, now at LMU Munich), [Stability AI](https://stability.ai/) and [LAION](https://laion.ai/). \n",
        "\n",
        "It's trained on 512x512 images from a subset of the [LAION-5B](https://laion.ai/blog/laion-5b/) database. Feel free to take a moment and look at the great collection of text-and-image pairs, which these researchers have collected, e.g. via this [text-searchable interface to the dataset](https://rom1504.github.io/clip-retrieval/?back=https%3A%2F%2Fknn5.laion.ai&index=laion5B&useMclip=false&query=kitten+with+hat). However, please be aware that the dataset was directly crawled from the publicly accessible internet, thus it might also contain quite disturbing pictures.\n",
        "\n",
        "With respect to this, please take also a minute and read the \"Disclaimer on dataset purpose and content warning\" on [LAION-5B](https://laion.ai/blog/laion-5b/) page. Reflect on your thoughts on training very powerful models on such an *uncurated* (i.e., no images were removed due to potentially disturbing or even illegal content) dataset, which was basically just downloaded from the publicly accessible internet."
      ]
    },
    {
      "cell_type": "markdown",
      "source": [
        "The Stable Diffusion model uses a frozen CLIP ViT-L/14 text encoder to condition the image generation process on text prompts.\n",
        "\n",
        "With its 860M parameter UNet and 123M parameter text encoder, the model is relatively lightweight and runs on a GPU with at least 10GB VRAM.\n",
        "See the [model card](https://huggingface.co/CompVis/stable-diffusion) for more information.\n",
        "\n",
        "This Colab notebook shows how to use Stable Diffusion with the 🤗 Hugging Face [🧨 Diffusers library](https://github.com/huggingface/diffusers). \n",
        "\n",
        "Let's get started!"
      ],
      "metadata": {
        "id": "w3dHH3iQFg9x"
      }
    },
    {
      "cell_type": "markdown",
      "metadata": {
        "id": "-xMJ6LaET6dT"
      },
      "source": [
        "## 1. How to use `StableDiffusionPipeline`\n",
        "\n",
        "Before diving into the theoretical aspects of how Stable Diffusion functions, \n",
        "let's try it out a bit 🤗.\n",
        "\n",
        "In this section, we show how you can run text to image inference in just a few lines of code!"
      ]
    },
    {
      "cell_type": "markdown",
      "metadata": {
        "id": "QYOlvQ1nQL7c"
      },
      "source": [
        "### Setup\n",
        "\n",
        "The virtual machines, which power your Colab notebook come in different \"flavors\". Some of them only have CPUs (standard computer processors) and no additional GPUs (graphics cards). For the Stable-Diffusion notebooks to run, you always want to have a machine with a GPU. You can change the type of your \"Runtime\" via the \"Runtime -> Change runtime type\" (German: \"Laufzeit -> Laufzeittyp ändern\").\n",
        "\n",
        "We use an exclamation mark to run a command directly on the virtual machine. Here, we execute nvidia-smi, which is a tool that checks for the presence of an NVIDIA graphics card. If it finds a card, it will print some info. However, if the following command fails, use the `Runtime` menu above and select `Change runtime type`.\n",
        "\n",
        "In case a \"This notebook requires extended RAM\" message pops up, just click \"Ok\" and ignore it, the amount of RAM (random access memory) we have should be fine. :)"
      ]
    },
    {
      "cell_type": "code",
      "execution_count": null,
      "metadata": {
        "id": "zHkHsdtnry57"
      },
      "outputs": [],
      "source": [
        "!nvidia-smi"
      ]
    },
    {
      "cell_type": "markdown",
      "metadata": {
        "id": "paJt_cx5QgVz"
      },
      "source": [
        "Next, you should install `diffusers==0.4.0` as well `scipy`, `ftfy` and `transformers`."
      ]
    },
    {
      "cell_type": "code",
      "execution_count": null,
      "metadata": {
        "id": "aIrgth7sqFML"
      },
      "outputs": [],
      "source": [
        "!pip install diffusers==0.4.0\n",
        "!pip install transformers scipy ftfy\n",
        "!pip install \"ipywidgets>=7,<8\""
      ]
    },
    {
      "cell_type": "markdown",
      "source": [
        "Some of the pre-trained models, which you can download from Huggingface, come with a license, which you first have to accept, before you can use them. These licences often come with models which are extremely powerful, so that the people sharing them want to make sure, that they are not used for commercial (or even malicious) purposes.\n",
        "\n",
        "Stable-diffusion is one of these models. Thus, you also need to accept the model license before downloading or using the weights (i.e., the pre-trained network). In this post we'll use model version `v1-4`, so you'll need to  visit [its model card](https://huggingface.co/CompVis/stable-diffusion-v1-4) while being logged in with your Hugging face account, read the license, and **tick the checkbox if you agree**. \n",
        "\n",
        "For this you have to be a registered user in 🤗 Hugging Face Hub.\n",
        "\n",
        "To use your Hugging Face account from this notebook, you'll also need to create and use an access token, it replaces your Huggingface accountname and passwort, when logging in from Colab, which in turn helps to maintain your account and logging details safe and secure. \n",
        "\n",
        "You can create a token [here](https://huggingface.co/settings/tokens). Just click \"New token\", give the token a name (e.g., \"diffusers\"), select the \"read\" role (i.e., you cannot write data from a colab notebook to your Huggingface account, if you use this token), and click on \"Generate a token\". \n",
        "\n",
        "Et voila, a new token will appear, which you can \"show\" and then copy-paste to the login-window, which we will create using the next two code cells. \n",
        "\n",
        "Alternatively, you can directly click the two rectangles right next to the \"Show\" button and the token will directly be copied to your clipboard.\n",
        "\n",
        "![Bildschirm­foto 2022-11-14 um 18.26.04.png](data:image/png;base64,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)"
      ],
      "metadata": {
        "id": "1Fcyyt0daU4e"
      }
    },
    {
      "cell_type": "markdown",
      "source": [
        "To show you the Huggingface Login window, we first need to enable external interactive elements in Colab. Run the following cell to be able to use `notebook_login`"
      ],
      "metadata": {
        "id": "ou0Ijygormum"
      }
    },
    {
      "cell_type": "code",
      "source": [
        "from google.colab import output\n",
        "output.enable_custom_widget_manager()"
      ],
      "metadata": {
        "id": "OtrOo8YPoM2b"
      },
      "execution_count": null,
      "outputs": []
    },
    {
      "cell_type": "markdown",
      "source": [
        "Now you can login with your newly generated token to finally download the Stable-Diffusion model. For this, execute the next cell, then paste the token into the \"Token\" field and click the \"Login\" button."
      ],
      "metadata": {
        "id": "BHiV7acka4EY"
      }
    },
    {
      "cell_type": "code",
      "execution_count": null,
      "metadata": {
        "id": "8TRAh8G6sNfA"
      },
      "outputs": [],
      "source": [
        "from huggingface_hub import notebook_login\n",
        "\n",
        "notebook_login()"
      ]
    },
    {
      "cell_type": "markdown",
      "metadata": {
        "id": "3NnPOMAqAABv"
      },
      "source": [
        "### Stable Diffusion Pipeline\n",
        "\n",
        "`StableDiffusionPipeline` is an end-to-end inference pipeline that you can use to generate images from text with just a few lines of code.\n",
        "\n",
        "First, we load the pre-trained weights of all components of the model.\n",
        "\n",
        "In addition to the model id [CompVis/stable-diffusion-v1-4](https://huggingface.co/CompVis/stable-diffusion-v1-4), we're also passing a specific `revision` and `torch_dtype` to the `from_pretrained` method.\n",
        "\n",
        "Make sure you have created the login token with the same account, which you used to accept the model's license, so that it can be verified that you have indeed accepted the model's license.\n",
        "\n",
        "We want to ensure that our free Google Colab instance does not run out of GPU memory, when running Stable Diffusion, hence we're loading the weights from the half-precision branch [`fp16`](https://huggingface.co/CompVis/stable-diffusion-v1-4/tree/fp16) and also tell `diffusers` to expect the weights in float16 precision by passing `torch_dtype=torch.float16`. This means that each individual weight is represented only using 16 bits (1s or 0s), instead of 32. This reduces a bit the quality of the samples, but at the same time also reduces the required amount of memory to store the model by half.\n",
        "\n",
        "If you want to ensure the highest possible precision, please make sure to remove `revision=\"fp16\"` and `torch_dtype=torch.float16` at the cost of a higher memory usage (which will probably not work with your free Colab instance)."
      ]
    },
    {
      "cell_type": "code",
      "execution_count": null,
      "metadata": {
        "id": "xSKWBKFPArKS"
      },
      "outputs": [],
      "source": [
        "import torch\n",
        "from diffusers import StableDiffusionPipeline\n",
        "\n",
        "# make sure you're logged in with the right Huggingface token\n",
        "\n",
        "# We will create a full Stable-Diffusion pipeline\n",
        "# and just save it to the variable with the unassuming\n",
        "# name 'pipe'\n",
        "pipe = StableDiffusionPipeline.from_pretrained(\"CompVis/stable-diffusion-v1-4\", revision=\"fp16\", torch_dtype=torch.float16)  "
      ]
    },
    {
      "cell_type": "markdown",
      "source": [
        "Next, let's move the pipeline to the graphics card to have faster inference. \"CUDA\" is the name of the proprietary libraries, which you an use to accelerate computations with NVIDIA graphics cards (which have an almost de-facto monopoly on GPUs for machine learning, another thing which warrants some critical reflection)."
      ],
      "metadata": {
        "id": "8MgNzTxwbASv"
      }
    },
    {
      "cell_type": "code",
      "source": [
        "pipe = pipe.to(\"cuda\")"
      ],
      "metadata": {
        "id": "LA9myHTxbDhm"
      },
      "execution_count": null,
      "outputs": []
    },
    {
      "cell_type": "code",
      "execution_count": null,
      "metadata": {
        "id": "yEErJFjlrSWS"
      },
      "outputs": [],
      "source": [
        "prompt = \"a photograph of an astronaut riding a horse\"\n",
        "image = pipe(prompt).images[0]  # image here is in [PIL format](https://pillow.readthedocs.io/en/stable/)\n",
        "\n",
        "# Now to display an image you can do either save it such as:\n",
        "image.save(f\"astronaut_rides_horse.png\")\n",
        "\n",
        "# or if you're in a google colab you can directly display it with \n",
        "image"
      ]
    },
    {
      "cell_type": "markdown",
      "metadata": {
        "id": "NfZCwCecVJI3"
      },
      "source": [
        "Running the above cell multiple times will give you a different image every time (**try it out** and **feel free to experiment with some other prompts**). If you want deterministic output you can pass a so called random \"seed\" to the pipeline. Every time you use the same seed you'll have the same image result."
      ]
    },
    {
      "cell_type": "code",
      "execution_count": null,
      "metadata": {
        "id": "WaAW4sSdV7vZ"
      },
      "outputs": [],
      "source": [
        "import torch\n",
        "\n",
        "generator = torch.Generator(\"cuda\").manual_seed(1024)\n",
        "\n",
        "image = pipe(prompt, generator=generator).images[0]\n",
        "\n",
        "image"
      ]
    },
    {
      "cell_type": "markdown",
      "metadata": {
        "id": "_RrbYQVQXK6I"
      },
      "source": [
        "You can change the number of inference steps using the `num_inference_steps` argument. In general, results are better the more steps you use. Stable Diffusion, being one of the latest models, works great with a relatively small number of steps, so we recommend to use the default of `50`. If you want faster results you can use a smaller number.\n",
        "\n",
        "The following cell uses the same seed as before, but with fewer steps. Note how some details, such as the horse's head or the helmet, are less defin realistic and less defined than in the previous image:"
      ]
    },
    {
      "cell_type": "code",
      "execution_count": null,
      "metadata": {
        "id": "BKiK67iTXQkt"
      },
      "outputs": [],
      "source": [
        "import torch\n",
        "\n",
        "generator = torch.Generator(\"cuda\").manual_seed(1024)\n",
        "\n",
        "image = pipe(prompt, num_inference_steps=15, generator=generator).images[0]\n",
        "\n",
        "image"
      ]
    },
    {
      "cell_type": "markdown",
      "metadata": {
        "id": "Y8wxFjba5zRc"
      },
      "source": [
        "The other parameter in the pipeline call is `guidance_scale`. It is a way to increase the adherence to the conditional signal which in this case is text as well as overall sample quality. In simple terms classifier free guidance forces the generation to better match with the prompt. Numbers like `7` or `8.5` give good results, if you use a very large number the images might look good, but will be less diverse. \n",
        "\n",
        "You can learn about the technical details of this parameter in [the last section](https://colab.research.google.com/drive/1ALXuCM5iNnJDNW5vqBm5lCtUQtZJHN2f?authuser=1#scrollTo=UZp-ynZLrS-S) of this notebook."
      ]
    },
    {
      "cell_type": "markdown",
      "metadata": {
        "id": "bUbR3IszB1CD"
      },
      "source": [
        "To generate multiple images for the same prompt, we simply use a list with the same prompt repeated several times. We'll send the list to the pipeline instead of the string we used before."
      ]
    },
    {
      "cell_type": "markdown",
      "metadata": {
        "id": "6ZcgsflpBoEM"
      },
      "source": [
        "\n",
        "\n",
        "Let's first write a helper function to display a grid of images. Just run the following cell to create the `image_grid` function, or disclose the code if you are interested in how it's done."
      ]
    },
    {
      "cell_type": "code",
      "execution_count": null,
      "metadata": {
        "id": "REF_yuHprSa1"
      },
      "outputs": [],
      "source": [
        "from PIL import Image\n",
        "\n",
        "def image_grid(imgs, rows, cols):\n",
        "    assert len(imgs) == rows*cols\n",
        "\n",
        "    w, h = imgs[0].size\n",
        "    grid = Image.new('RGB', size=(cols*w, rows*h))\n",
        "    grid_w, grid_h = grid.size\n",
        "    \n",
        "    for i, img in enumerate(imgs):\n",
        "        grid.paste(img, box=(i%cols*w, i//cols*h))\n",
        "    return grid"
      ]
    },
    {
      "cell_type": "markdown",
      "source": [
        "Now, we can generate a grid image once having run the pipeline with a list of 3 prompts."
      ],
      "metadata": {
        "id": "AcHccTDWbQRU"
      }
    },
    {
      "cell_type": "code",
      "execution_count": null,
      "metadata": {
        "id": "-YAFLvWWrSdM"
      },
      "outputs": [],
      "source": [
        "num_images = 3\n",
        "prompt = [\"a photograph of an astronaut riding a horse\"] * num_images\n",
        "\n",
        "images = pipe(prompt).images\n",
        "\n",
        "grid = image_grid(images, rows=1, cols=3)\n",
        "grid"
      ]
    },
    {
      "cell_type": "markdown",
      "metadata": {
        "id": "Zj-3lCCWYtMn"
      },
      "source": [
        "And here's how to generate a grid of `n × m` images."
      ]
    },
    {
      "cell_type": "code",
      "execution_count": null,
      "metadata": {
        "id": "Ylscg48YYxfF"
      },
      "outputs": [],
      "source": [
        "num_cols = 3\n",
        "num_rows = 4\n",
        "\n",
        "prompt = [\"a photograph of an astronaut riding a horse\"] * num_cols\n",
        "\n",
        "all_images = []\n",
        "for i in range(num_rows):\n",
        "  images = pipe(prompt).images\n",
        "  all_images.extend(images)\n",
        "\n",
        "grid = image_grid(all_images, rows=num_rows, cols=num_cols)\n",
        "grid"
      ]
    },
    {
      "cell_type": "markdown",
      "metadata": {
        "id": "uf9pbS3kCsUf"
      },
      "source": [
        "### Generate non-square images\n",
        "\n",
        "Stable Diffusion produces images of `512 × 512` pixels by default. But it's very easy to override the default using the `height` and `width` arguments, so you can create rectangular images in portrait or landscape ratios.\n",
        "\n",
        "These are some recommendations to choose good image sizes:\n",
        "- Make sure `height` and `width` are both multiples of `8`.\n",
        "- Going below 512 might result in lower quality images.\n",
        "- Going over 512 in both directions will repeat image areas (global coherence is lost).\n",
        "- The best way to create non-square images is to use `512` in one dimension, and a value larger than that in the other one."
      ]
    },
    {
      "cell_type": "code",
      "execution_count": null,
      "metadata": {
        "id": "0SXnxd-ZrSfy"
      },
      "outputs": [],
      "source": [
        "prompt = \"a photograph of an astronaut riding a horse\"\n",
        "\n",
        "image = pipe(prompt, height=512, width=768).images[0]\n",
        "image"
      ]
    },
    {
      "cell_type": "markdown",
      "metadata": {
        "id": "yW14FA-tDQ5n"
      },
      "source": [
        "## 2. What is Stable Diffusion\n",
        "\n",
        "Now, let's go into the theoretical part of Stable Diffusion 👩‍🎓.\n",
        "\n",
        "Stable Diffusion is based on a particular type of diffusion model called **Latent Diffusion**, proposed in [High-Resolution Image Synthesis with Latent Diffusion Models](https://arxiv.org/abs/2112.10752).\n",
        "\n"
      ]
    },
    {
      "cell_type": "markdown",
      "metadata": {
        "id": "zHj_sllMaKTD"
      },
      "source": [
        "General diffusion models are machine learning systems that are trained to *denoise* random gaussian noise step by step, to get to a sample of interest, such as an *image*. For a more detailed overview of how they work, check [this colab](https://colab.research.google.com/github/huggingface/notebooks/blob/main/diffusers/diffusers_intro.ipynb).\n",
        "\n",
        "Diffusion models have shown to achieve state-of-the-art results for generating image data. But one downside of diffusion models is that the reverse denoising process is slow. In addition, these models consume a lot of memory because they operate in pixel space, which becomes unreasonably expensive when generating high-resolution images. Therefore, it is challenging to train these models and also use them for inference."
      ]
    },
    {
      "cell_type": "markdown",
      "metadata": {
        "id": "BBsdAj9pDPOv"
      },
      "source": [
        "\n",
        "\n",
        "<br>\n",
        "\n",
        "Latent diffusion can reduce the memory and compute complexity by applying the diffusion process over a lower dimensional _latent_ space, instead of using the actual pixel space. This is the key difference between standard diffusion and latent diffusion models: **in latent diffusion the model is trained to generate latent (compressed) representations of the images.** \n",
        "\n",
        "There are three main components in latent diffusion.\n",
        "\n",
        "1. An autoencoder (VAE).\n",
        "2. A [U-Net](https://colab.research.google.com/github/huggingface/notebooks/blob/main/diffusers/diffusers_intro.ipynb#scrollTo=wW8o1Wp0zRkq).\n",
        "3. A text-encoder, *e.g.* [CLIP's Text Encoder](https://huggingface.co/docs/transformers/model_doc/clip#transformers.CLIPTextModel)."
      ]
    },
    {
      "cell_type": "markdown",
      "metadata": {
        "id": "j4leRMZzjTsA"
      },
      "source": [
        "**1. The autoencoder (VAE)**\n",
        "\n",
        "The VAE model has two parts, an encoder and a decoder. The encoder is used to convert the image into a low dimensional latent representation, which will serve as the input to the *U-Net* model.\n",
        "The decoder, conversely, transforms the latent representation back into an image.\n",
        "\n",
        " During latent diffusion _training_, the encoder is used to get the latent representations (_latents_) of the images for the forward diffusion process, which applies more and more noise at each step. During _inference_, the denoised latents generated by the reverse diffusion process are converted back into images using the VAE decoder. As we will see during inference we **only need the VAE decoder**."
      ]
    },
    {
      "cell_type": "markdown",
      "source": [
        "**2. The U-Net**\n",
        "\n",
        "The U-Net has an encoder part and a decoder part both comprised of ResNet blocks.\n",
        "The encoder compresses an image representation into a lower resolution image representation and the decoder decodes the lower resolution image representation back to the original higher resolution image representation that is supposedly less noisy.\n",
        "More specifically, the U-Net output predicts the noise residual which can be used to compute the predicted denoised image representation.\n",
        "\n",
        "To prevent the U-Net from losing important information while downsampling, short-cut connections are usually added between the downsampling ResNets of the encoder to the upsampling ResNets of the decoder.\n",
        "Additionally, the stable diffusion U-Net is able to condition its output on text-embeddings via cross-attention layers. The cross-attention layers are added to both the encoder and decoder part of the U-Net usually between ResNet blocks."
      ],
      "metadata": {
        "id": "Jr5ZCb66kmyE"
      }
    },
    {
      "cell_type": "markdown",
      "source": [
        "**3. The Text-encoder**\n",
        "\n",
        "The text-encoder is responsible for transforming the input prompt, *e.g.* \"An astronout riding a horse\" into an embedding space that can be understood by the U-Net. It is usually a simple *transformer-based* encoder that maps a sequence of input tokens to a sequence of latent text-embeddings.\n",
        "\n",
        "Inspired by [Imagen](https://imagen.research.google/), Stable Diffusion does **not** train the text-encoder during training and simply uses an CLIP's already trained text encoder, [CLIPTextModel](https://huggingface.co/docs/transformers/model_doc/clip#transformers.CLIPTextModel)."
      ],
      "metadata": {
        "id": "YE7hhg5ArUu4"
      }
    },
    {
      "cell_type": "markdown",
      "metadata": {
        "id": "2-XnKTVfj2Jm"
      },
      "source": [
        "**Why is latent diffusion fast and efficient?**\n",
        "\n",
        "Since the U-Net of latent diffusion models operates on a low dimensional space, it greatly reduces the memory and compute requirements compared to pixel-space diffusion models. For example, the autoencoder used in Stable Diffusion has a reduction factor of 8. This means that an image of shape `(3, 512, 512)` becomes `(3, 64, 64)` in latent space, which requires `8 × 8 = 64` times less memory.\n",
        "\n",
        "This is why it's possible to generate `512 × 512` images so quickly, even on 16GB Colab GPUs!"
      ]
    },
    {
      "cell_type": "markdown",
      "metadata": {
        "id": "Zz5Ge_47jUaA"
      },
      "source": [
        "**Stable Diffusion during inference**\n",
        "\n",
        "Putting it all together, let's now take a closer look at how the model works in inference by illustrating the logical flow.\n"
      ]
    },
    {
      "cell_type": "markdown",
      "metadata": {
        "id": "cUBqX1sMsDR6"
      },
      "source": [
        "<p align=\"left\">\n",
        "<img src=\"https://raw.githubusercontent.com/patrickvonplaten/scientific_images/master/stable_diffusion.png\" alt=\"sd-pipeline\" width=\"500\"/>\n",
        "</p>\n",
        "\n",
        "The stable diffusion model takes both a latent seed and a text prompt as an input. The latent seed is then used to generate random latent image representations of size $64 \\times 64$ where as the text prompt is transformed to text embeddings of size $77 \\times 768$ via CLIP's text encoder.\n",
        "\n",
        "Next the U-Net iteratively *denoises* the random latent image representations while being conditioned on the text embeddings. The output of the U-Net, being the noise residual, is used to compute a denoised latent image representation via a scheduler algorithm. Many different scheduler algorithms can be used for this computation, each having its pros and cons. For Stable Diffusion, we recommend using one of:\n",
        "\n",
        "- [PNDM scheduler](https://github.com/huggingface/diffusers/blob/main/src/diffusers/schedulers/scheduling_pndm.py) (used by default)\n",
        "- [DDIM scheduler](https://github.com/huggingface/diffusers/blob/main/src/diffusers/schedulers/scheduling_ddim.py)\n",
        "- [K-LMS scheduler](https://github.com/huggingface/diffusers/blob/main/src/diffusers/schedulers/scheduling_lms_discrete.py)\n",
        "\n",
        "Theory on how the scheduler algorithm function is out of scope for this notebook, but in short one should remember that they compute the predicted denoised image representation from the previous noise representation and the predicted noise residual.\n",
        "For more information, we recommend looking into [Elucidating the Design Space of Diffusion-Based Generative Models](https://arxiv.org/abs/2206.00364)\n",
        "\n",
        "The *denoising* process is repeated *ca.* 50 times to step-by-step retrieve better latent image representations.\n",
        "Once complete, the latent image representation is decoded by the decoder part of the variational auto encoder."
      ]
    },
    {
      "cell_type": "markdown",
      "metadata": {
        "id": "2rR2Udg5IYjn"
      },
      "source": [
        "\n",
        "\n",
        "After this brief introduction to Latent and Stable Diffusion, let's see how to make advanced use of 🤗 Hugging Face Diffusers!"
      ]
    },
    {
      "cell_type": "markdown",
      "metadata": {
        "id": "UZp-ynZLrS-S"
      },
      "source": [
        "## 3. How to write your own inference pipeline with `diffusers`\n",
        "\n",
        "Finally, we show how you can create custom diffusion pipelines with `diffusers`.\n",
        "This is often very useful to dig a bit deeper into certain functionalities of the system and to potentially switch out certain components. \n",
        "\n",
        "In this section, we will demonstrate how to use Stable Diffusion with a different scheduler, namely [Katherine Crowson's](https://github.com/crowsonkb) K-LMS scheduler that was added in [this PR](https://github.com/huggingface/diffusers/pull/185#pullrequestreview-1074247365)."
      ]
    },
    {
      "cell_type": "markdown",
      "metadata": {
        "id": "KEXkmX3vDPRU"
      },
      "source": [
        "Let's go through the `StableDiffusionPipeline` step by step to see how we could have written it ourselves.\n",
        "\n",
        "We will start by loading the individual models involved."
      ]
    },
    {
      "cell_type": "code",
      "execution_count": null,
      "metadata": {
        "id": "IA-VoQm3YW-5"
      },
      "outputs": [],
      "source": [
        "import torch\n",
        "torch_device = \"cuda\" if torch.cuda.is_available() else \"cpu\""
      ]
    },
    {
      "cell_type": "markdown",
      "metadata": {
        "id": "n3Xw7qSEdTpt"
      },
      "source": [
        "The [pre-trained model](https://huggingface.co/CompVis/stable-diffusion-v1-3-diffusers/tree/main) includes all the components required to setup a complete diffusion pipeline. They are stored in the following folders:\n",
        "- `text_encoder`: Stable Diffusion uses CLIP, but other diffusion models may use other encoders such as `BERT`.\n",
        "- `tokenizer`. It must match the one used by the `text_encoder` model.\n",
        "- `scheduler`: The scheduling algorithm used to progressively add noise to the image during training.\n",
        "- `unet`: The model used to generate the latent representation of the input.\n",
        "- `vae`: Autoencoder module that we'll use to decode latent representations into real images.\n",
        "\n",
        "We can load the components by referring to the folder they were saved, using the `subfolder` argument to `from_pretrained`."
      ]
    },
    {
      "cell_type": "code",
      "execution_count": null,
      "metadata": {
        "id": "xlsKwQijWMpL"
      },
      "outputs": [],
      "source": [
        "from transformers import CLIPTextModel, CLIPTokenizer\n",
        "from diffusers import AutoencoderKL, UNet2DConditionModel, PNDMScheduler\n",
        "\n",
        "# 1. Load the autoencoder model which will be used to decode the latents into image space. \n",
        "vae = AutoencoderKL.from_pretrained(\"CompVis/stable-diffusion-v1-4\", subfolder=\"vae\")\n",
        "\n",
        "# 2. Load the tokenizer and text encoder to tokenize and encode the text. \n",
        "tokenizer = CLIPTokenizer.from_pretrained(\"openai/clip-vit-large-patch14\")\n",
        "text_encoder = CLIPTextModel.from_pretrained(\"openai/clip-vit-large-patch14\")\n",
        "\n",
        "# 3. The UNet model for generating the latents.\n",
        "unet = UNet2DConditionModel.from_pretrained(\"CompVis/stable-diffusion-v1-4\", subfolder=\"unet\")"
      ]
    },
    {
      "cell_type": "markdown",
      "metadata": {
        "id": "8eYstOqwVYGc"
      },
      "source": [
        "Now instead of loading the pre-defined scheduler, we load a K-LMS scheduler instead."
      ]
    },
    {
      "cell_type": "code",
      "execution_count": null,
      "metadata": {
        "id": "g-0W8UG6VXpD"
      },
      "outputs": [],
      "source": [
        "from diffusers import LMSDiscreteScheduler\n",
        "\n",
        "scheduler = LMSDiscreteScheduler(beta_start=0.00085, beta_end=0.012, beta_schedule=\"scaled_linear\", num_train_timesteps=1000)"
      ]
    },
    {
      "cell_type": "markdown",
      "metadata": {
        "id": "yBXqwuHFYgf4"
      },
      "source": [
        "Next we move the models to the GPU."
      ]
    },
    {
      "cell_type": "code",
      "execution_count": null,
      "metadata": {
        "id": "S3lJEXz7YgnC"
      },
      "outputs": [],
      "source": [
        "vae = vae.to(torch_device)\n",
        "text_encoder = text_encoder.to(torch_device)\n",
        "unet = unet.to(torch_device) "
      ]
    },
    {
      "cell_type": "markdown",
      "metadata": {
        "id": "YtqGYl5SY6dm"
      },
      "source": [
        "We now define the parameters we'll use to generate images.\n",
        "\n",
        "Note that `guidance_scale` is defined analog to the guidance weight `w` of equation (2) in the [Imagen paper](https://arxiv.org/pdf/2205.11487.pdf). `guidance_scale == 1` corresponds to doing no classifier-free guidance. Here we set it to 7.5 as also done previously.\n",
        "\n",
        "In contrast to the previous examples, we set `num_inference_steps` to 100 to get an even more defined image."
      ]
    },
    {
      "cell_type": "code",
      "execution_count": null,
      "metadata": {
        "id": "ot8RDV-2Y6uE"
      },
      "outputs": [],
      "source": [
        "prompt = [\"a photograph of an astronaut riding a horse\"]\n",
        "\n",
        "height = 512                        # default height of Stable Diffusion\n",
        "width = 512                         # default width of Stable Diffusion\n",
        "\n",
        "num_inference_steps = 100            # Number of denoising steps\n",
        "\n",
        "guidance_scale = 7.5                # Scale for classifier-free guidance\n",
        "\n",
        "generator = torch.manual_seed(32)   # Seed generator to create the inital latent noise\n",
        "\n",
        "batch_size = 1"
      ]
    },
    {
      "cell_type": "markdown",
      "metadata": {
        "id": "G47gEbg9Z4sJ"
      },
      "source": [
        "First, we get the text_embeddings for the prompt. These embeddings will be used to condition the UNet model."
      ]
    },
    {
      "cell_type": "code",
      "execution_count": null,
      "metadata": {
        "id": "mZpvyVT1Y6wq"
      },
      "outputs": [],
      "source": [
        "text_input = tokenizer(prompt, padding=\"max_length\", max_length=tokenizer.model_max_length, truncation=True, return_tensors=\"pt\")\n",
        "\n",
        "with torch.no_grad():\n",
        "  text_embeddings = text_encoder(text_input.input_ids.to(torch_device))[0]"
      ]
    },
    {
      "cell_type": "markdown",
      "metadata": {
        "id": "INGdc9eFaeWz"
      },
      "source": [
        "We'll also get the unconditional text embeddings for classifier-free guidance, which are just the embeddings for the padding token (empty text). They need to have the same shape as the conditional `text_embeddings` (`batch_size` and `seq_length`)"
      ]
    },
    {
      "cell_type": "code",
      "execution_count": null,
      "metadata": {
        "id": "wkuwhbFrY6zo"
      },
      "outputs": [],
      "source": [
        "max_length = text_input.input_ids.shape[-1]\n",
        "uncond_input = tokenizer(\n",
        "    [\"\"] * batch_size, padding=\"max_length\", max_length=max_length, return_tensors=\"pt\"\n",
        ")\n",
        "with torch.no_grad():\n",
        "  uncond_embeddings = text_encoder(uncond_input.input_ids.to(torch_device))[0]   "
      ]
    },
    {
      "cell_type": "markdown",
      "metadata": {
        "id": "3lKMrvoYbxzf"
      },
      "source": [
        "For classifier-free guidance, we need to do two forward passes. One with the conditioned input (`text_embeddings`), and another with the unconditional embeddings (`uncond_embeddings`). In practice, we can concatenate both into a single batch to avoid doing two forward passes."
      ]
    },
    {
      "cell_type": "code",
      "execution_count": null,
      "metadata": {
        "id": "AwnB7CIeY619"
      },
      "outputs": [],
      "source": [
        "text_embeddings = torch.cat([uncond_embeddings, text_embeddings])"
      ]
    },
    {
      "cell_type": "markdown",
      "metadata": {
        "id": "oxcaMgD0DPUD"
      },
      "source": [
        "Generate the intial random noise."
      ]
    },
    {
      "cell_type": "code",
      "execution_count": null,
      "metadata": {
        "id": "4NsfjxA-chAL"
      },
      "outputs": [],
      "source": [
        "latents = torch.randn(\n",
        "  (batch_size, unet.in_channels, height // 8, width // 8),\n",
        "  generator=generator,\n",
        ")\n",
        "latents = latents.to(torch_device)"
      ]
    },
    {
      "cell_type": "code",
      "execution_count": null,
      "metadata": {
        "id": "nC401krZfXOr"
      },
      "outputs": [],
      "source": [
        "latents.shape"
      ]
    },
    {
      "cell_type": "markdown",
      "metadata": {
        "id": "JDUOA1gHMp2Y"
      },
      "source": [
        "Cool $64 \\times 64$ is expected. The model will transform this latent representation (pure noise) into a `512 × 512` image later on.\n",
        "\n",
        "Next, we initialize the scheduler with our chosen `num_inference_steps`.\n",
        "This will compute the `sigmas` and exact time step values to be used during the denoising process."
      ]
    },
    {
      "cell_type": "code",
      "source": [
        "scheduler.set_timesteps(num_inference_steps)"
      ],
      "metadata": {
        "id": "f6UDqCyKwBpx"
      },
      "execution_count": null,
      "outputs": []
    },
    {
      "cell_type": "markdown",
      "metadata": {
        "id": "xTOxOKeqW4XE"
      },
      "source": [
        "The K-LMS scheduler needs to multiply the `latents` by its `sigma` values. Let's do this here"
      ]
    },
    {
      "cell_type": "code",
      "execution_count": null,
      "metadata": {
        "id": "aTwTq9d-W_NP"
      },
      "outputs": [],
      "source": [
        "latents = latents * scheduler.init_noise_sigma"
      ]
    },
    {
      "cell_type": "markdown",
      "metadata": {
        "id": "LdVkvYuYdjc6"
      },
      "source": [
        "We are ready to write the denoising loop."
      ]
    },
    {
      "cell_type": "markdown",
      "metadata": {
        "id": "3NXFFfjsS-zj"
      },
      "source": [
        "Using `autocast` will run inference faster because it uses half-precision."
      ]
    },
    {
      "cell_type": "code",
      "execution_count": null,
      "metadata": {
        "id": "Ylc3AIdZkFhl"
      },
      "outputs": [],
      "source": [
        "from tqdm.auto import tqdm\n",
        "from torch import autocast\n",
        "\n",
        "for t in tqdm(scheduler.timesteps):\n",
        "  # expand the latents if we are doing classifier-free guidance to avoid doing two forward passes.\n",
        "  latent_model_input = torch.cat([latents] * 2)\n",
        "\n",
        "  latent_model_input = scheduler.scale_model_input(latent_model_input, t)\n",
        "\n",
        "  # predict the noise residual\n",
        "  with torch.no_grad():\n",
        "    noise_pred = unet(latent_model_input, t, encoder_hidden_states=text_embeddings).sample\n",
        "\n",
        "  # perform guidance\n",
        "  noise_pred_uncond, noise_pred_text = noise_pred.chunk(2)\n",
        "  noise_pred = noise_pred_uncond + guidance_scale * (noise_pred_text - noise_pred_uncond)\n",
        "\n",
        "  # compute the previous noisy sample x_t -> x_t-1\n",
        "  latents = scheduler.step(noise_pred, t, latents).prev_sample"
      ]
    },
    {
      "cell_type": "markdown",
      "metadata": {
        "id": "sZUTKjm0kuDY"
      },
      "source": [
        "We now use the `vae` to decode the generated `latents` back into the image."
      ]
    },
    {
      "cell_type": "code",
      "execution_count": null,
      "metadata": {
        "id": "5YRzuJP7kMZo"
      },
      "outputs": [],
      "source": [
        "# scale and decode the image latents with vae\n",
        "latents = 1 / 0.18215 * latents\n",
        "\n",
        "with torch.no_grad():\n",
        "  image = vae.decode(latents).sample"
      ]
    },
    {
      "cell_type": "markdown",
      "metadata": {
        "id": "PmdOa4_Dqrl8"
      },
      "source": [
        "And finally, let's convert the image to PIL so we can display or save it."
      ]
    },
    {
      "cell_type": "code",
      "execution_count": null,
      "metadata": {
        "id": "AAVZStIokTVv"
      },
      "outputs": [],
      "source": [
        "image = (image / 2 + 0.5).clamp(0, 1)\n",
        "image = image.detach().cpu().permute(0, 2, 3, 1).numpy()\n",
        "images = (image * 255).round().astype(\"uint8\")\n",
        "pil_images = [Image.fromarray(image) for image in images]\n",
        "pil_images[0]"
      ]
    },
    {
      "cell_type": "markdown",
      "source": [
        "Nice, as we can see the photo has quite a definition 🔥."
      ],
      "metadata": {
        "id": "zjYuICyxwpeO"
      }
    }
  ],
  "metadata": {
    "accelerator": "GPU",
    "colab": {
      "collapsed_sections": [],
      "machine_shape": "hm",
      "name": "Stable Diffusion with 🧨 diffusers",
      "provenance": []
    },
    "gpuClass": "standard",
    "kernelspec": {
      "display_name": "Python 3",
      "name": "python3"
    },
    "language_info": {
      "name": "python"
    }
  },
  "nbformat": 4,
  "nbformat_minor": 0
}