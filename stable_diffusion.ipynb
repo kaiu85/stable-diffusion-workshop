{
  "cells": [
    {
      "cell_type": "markdown",
      "metadata": {
        "id": "gd-vX3cavOCt"
      },
      "source": [
        "# **Stable Diffusion** 🎨 \n",
        "*...using* 🤗 *Huggingface `🧨diffusers`*\n",
        "\n",
        "---\n",
        "\n",
        "This is a slightly modified version of [this](https://github.com/huggingface/notebooks/blob/main/diffusers/stable_diffusion.ipynb) great notebook by Huggingface. \n",
        "\n",
        "Please **remember** to **collect interesting findings** (e.g., prompts and generated images, interesting websites, thoughts and questions, which you would like to share with the group, ...) in [this slide deck](https://docs.google.com/presentation/d/1n5P9JIyYoISbRIfRgXvwmXFdETlPm1FQ_S7WuqKgqBo/edit?usp=sharing).\n",
        "\n",
        "---\n",
        "\n",
        "Stable Diffusion is a text-to-image latent diffusion model created by the researchers and engineers from [CompVis](https://github.com/CompVis) (formerly at Heidelberg, now at LMU Munich), [Stability AI](https://stability.ai/) and [LAION](https://laion.ai/). \n",
        "\n",
        "It's trained on 512x512 images from a subset of the [LAION-5B](https://laion.ai/blog/laion-5b/) database. Feel free to take a moment and look at the great collection of text-and-image pairs, which these researchers have collected, e.g. via this [text-searchable interface to the dataset](https://rom1504.github.io/clip-retrieval/?back=https%3A%2F%2Fknn5.laion.ai&index=laion5B&useMclip=false&query=kitten+with+hat). However, please be aware that the dataset was directly crawled from the publicly accessible internet, thus it might also contain quite disturbing pictures.\n",
        "\n",
        "With respect to this, please take also a minute and read the \"Disclaimer on dataset purpose and content warning\" on [LAION-5B](https://laion.ai/blog/laion-5b/) page. Reflect on your thoughts on training very powerful models on such an *uncurated* (i.e., no images were removed due to potentially disturbing or even illegal content) dataset, which was basically just downloaded from the publicly accessible internet."
      ]
    },
    {
      "cell_type": "markdown",
      "source": [
        "The Stable Diffusion model uses a frozen CLIP ViT-L/14 text encoder to condition the image generation process on text prompts.\n",
        "\n",
        "With its 860M parameter UNet and 123M parameter text encoder, the model is relatively lightweight and runs on a GPU with at least 10GB VRAM.\n",
        "See the [model card](https://huggingface.co/CompVis/stable-diffusion) for more information.\n",
        "\n",
        "This Colab notebook shows how to use Stable Diffusion with the 🤗 Hugging Face [🧨 Diffusers library](https://github.com/huggingface/diffusers). \n",
        "\n",
        "Let's get started!"
      ],
      "metadata": {
        "id": "w3dHH3iQFg9x"
      }
    },
    {
      "cell_type": "markdown",
      "metadata": {
        "id": "-xMJ6LaET6dT"
      },
      "source": [
        "## 1. How to use `StableDiffusionPipeline`\n",
        "\n",
        "Before diving into the theoretical aspects of how Stable Diffusion functions, \n",
        "let's try it out a bit 🤗.\n",
        "\n",
        "In this section, we show how you can run text to image inference in just a few lines of code!"
      ]
    },
    {
      "cell_type": "markdown",
      "metadata": {
        "id": "QYOlvQ1nQL7c"
      },
      "source": [
        "### Setup\n",
        "\n",
        "The virtual machines, which power your Colab notebook come in different \"flavors\". Some of them only have CPUs (standard computer processors) and no additional GPUs (graphics cards). For the Stable-Diffusion notebooks to run, you always want to have a machine with a GPU. You can change the type of your \"Runtime\" via the \"Runtime -> Change runtime type\" (German: \"Laufzeit -> Laufzeittyp ändern\").\n",
        "\n",
        "We use an exclamation mark to run a command directly on the virtual machine. Here, we execute nvidia-smi, which is a tool that checks for the presence of an NVIDIA graphics card. If it finds a card, it will print some info. However, if the following command fails, use the `Runtime` menu above and select `Change runtime type`.\n",
        "\n",
        "In case a \"This notebook requires extended RAM\" message pops up, just click \"Ok\" and ignore it, the amount of RAM (random access memory) we have should be fine. :)"
      ]
    },
    {
      "cell_type": "code",
      "execution_count": null,
      "metadata": {
        "id": "zHkHsdtnry57"
      },
      "outputs": [],
      "source": [
        "!nvidia-smi"
      ]
    },
    {
      "cell_type": "markdown",
      "metadata": {
        "id": "paJt_cx5QgVz"
      },
      "source": [
        "Next, you should install `diffusers==0.4.0` as well `scipy`, `ftfy` and `transformers`."
      ]
    },
    {
      "cell_type": "code",
      "execution_count": null,
      "metadata": {
        "id": "aIrgth7sqFML"
      },
      "outputs": [],
      "source": [
        "!pip install diffusers==0.4.0\n",
        "!pip install transformers scipy ftfy\n",
        "!pip install \"ipywidgets>=7,<8\""
      ]
    },
    {
      "cell_type": "markdown",
      "source": [
        "Some of the pre-trained models, which you can download from Huggingface, come with a license, which you first have to accept, before you can use them. These licences often come with models which are extremely powerful, so that the people sharing them want to make sure, that they are not used for commercial (or even malicious) purposes.\n",
        "\n",
        "Stable-diffusion is one of these models. Thus, you also need to accept the model license before downloading or using the weights (i.e., the pre-trained network). In this post we'll use model version `v1-4`, so you'll need to  visit [its model card](https://huggingface.co/CompVis/stable-diffusion-v1-4) while being logged in with your Hugging face account, read the license, and **tick the checkbox if you agree**. \n",
        "\n",
        "For this you have to be a registered user in 🤗 Hugging Face Hub.\n",
        "\n",
        "To use your Hugging Face account from this notebook, you'll also need to create and use an access token, it replaces your Huggingface accountname and passwort, when logging in from Colab, which in turn helps to maintain your account and logging details safe and secure. \n",
        "\n",
        "You can create a token [here](https://huggingface.co/settings/tokens). Just click \"New token\", give the token a name (e.g., \"diffusers\"), select the \"read\" role (i.e., you cannot write data from a colab notebook to your Huggingface account, if you use this token), and click on \"Generate a token\". \n",
        "\n",
        "Et voila, a new token will appear, which you can \"show\" and then copy-paste to the login-window, which we will create using the next two code cells. \n",
        "\n",
        "Alternatively, you can directly click the two rectangles right next to the \"Show\" button and the token will directly be copied to your clipboard.\n",
        "\n",
        "![Bildschirm­foto 2022-11-14 um 18.26.04.png](data:image/png;base64,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)"
      ],
      "metadata": {
        "id": "1Fcyyt0daU4e"
      }
    },
    {
      "cell_type": "markdown",
      "source": [
        "To show you the Huggingface Login window, we first need to enable external interactive elements in Colab. Run the following cell to be able to use `notebook_login`"
      ],
      "metadata": {
        "id": "ou0Ijygormum"
      }
    },
    {
      "cell_type": "code",
      "source": [
        "from google.colab import output\n",
        "output.enable_custom_widget_manager()"
      ],
      "metadata": {
        "id": "OtrOo8YPoM2b"
      },
      "execution_count": null,
      "outputs": []
    },
    {
      "cell_type": "markdown",
      "source": [
        "Now you can login with your newly generated token to finally download the Stable-Diffusion model. For this, execute the next cell, then paste the token into the \"Token\" field and click the \"Login\" button."
      ],
      "metadata": {
        "id": "BHiV7acka4EY"
      }
    },
    {
      "cell_type": "code",
      "execution_count": null,
      "metadata": {
        "id": "8TRAh8G6sNfA"
      },
      "outputs": [],
      "source": [
        "from huggingface_hub import notebook_login\n",
        "\n",
        "notebook_login()"
      ]
    },
    {
      "cell_type": "markdown",
      "metadata": {
        "id": "3NnPOMAqAABv"
      },
      "source": [
        "### Stable Diffusion Pipeline\n",
        "\n",
        "`StableDiffusionPipeline` is an end-to-end inference pipeline that you can use to generate images from text with just a few lines of code.\n",
        "\n",
        "First, we load the pre-trained weights of all components of the model.\n",
        "\n",
        "In addition to the model id [CompVis/stable-diffusion-v1-4](https://huggingface.co/CompVis/stable-diffusion-v1-4), we're also passing a specific `revision` and `torch_dtype` to the `from_pretrained` method.\n",
        "\n",
        "Make sure you have created the login token with the same account, which you used to accept the model's license, so that it can be verified that you have indeed accepted the model's license.\n",
        "\n",
        "We want to ensure that our free Google Colab instance does not run out of GPU memory, when running Stable Diffusion, hence we're loading the weights from the half-precision branch [`fp16`](https://huggingface.co/CompVis/stable-diffusion-v1-4/tree/fp16) and also tell `diffusers` to expect the weights in float16 precision by passing `torch_dtype=torch.float16`. This means that each individual weight is represented only using 16 bits (1s or 0s), instead of 32. This reduces a bit the quality of the samples, but at the same time also reduces the required amount of memory to store the model by half.\n",
        "\n",
        "If you want to ensure the highest possible precision, please make sure to remove `revision=\"fp16\"` and `torch_dtype=torch.float16` at the cost of a higher memory usage (which will probably not work with your free Colab instance)."
      ]
    },
    {
      "cell_type": "code",
      "execution_count": null,
      "metadata": {
        "id": "xSKWBKFPArKS"
      },
      "outputs": [],
      "source": [
        "import torch\n",
        "from diffusers import StableDiffusionPipeline\n",
        "\n",
        "# make sure you're logged in with the right Huggingface token\n",
        "\n",
        "# We will create a full Stable-Diffusion pipeline\n",
        "# and just save it to the variable with the unassuming\n",
        "# name 'pipe'\n",
        "pipe = StableDiffusionPipeline.from_pretrained(\"CompVis/stable-diffusion-v1-4\", revision=\"fp16\", torch_dtype=torch.float16)  "
      ]
    },
    {
      "cell_type": "markdown",
      "source": [
        "Next, let's move the pipeline to the graphics card to have faster inference. \"CUDA\" is the name of the proprietary libraries, which you an use to accelerate computations with NVIDIA graphics cards (which have an almost de-facto monopoly on GPUs for machine learning, another thing which warrants some critical reflection)."
      ],
      "metadata": {
        "id": "8MgNzTxwbASv"
      }
    },
    {
      "cell_type": "code",
      "source": [
        "pipe = pipe.to(\"cuda\")"
      ],
      "metadata": {
        "id": "LA9myHTxbDhm"
      },
      "execution_count": null,
      "outputs": []
    },
    {
      "cell_type": "markdown",
      "source": [
        "Now would be the time for a drumroll, as in the next cell you will generate your first image using the stable-diffusion model. Feel free to experiment with the prompt and the image dimensions."
      ],
      "metadata": {
        "id": "6Qm4__hZqSJa"
      }
    },
    {
      "cell_type": "code",
      "execution_count": null,
      "metadata": {
        "id": "yEErJFjlrSWS"
      },
      "outputs": [],
      "source": [
        "prompt = \"a photograph of an astronaut riding a horse\"\n",
        "\n",
        "# We save the output of running our pipeline saved in the variable\n",
        "# \"pipe\" with the prompt saved in the variable \"prompt\"\n",
        "# in the variable results.\n",
        "results = pipe(prompt)\n",
        "\n",
        "# Let us have a look at this output\n",
        "print(results)"
      ]
    },
    {
      "cell_type": "markdown",
      "source": [
        "We see, that results has the type *StableDiffusionPipelineOutput*. Furthermore, we see that this complex datatype has two so called \"properties\", which are called \"images\" and \"nsfw_content_detected\".\n",
        "Both are lists ([...]) with one element. The single element of the list \"images\" is of the type PIL.Image.Image, which is a datatype containing (well, you guessed it) an image.\n",
        "The second list just contains a boolean (yes/no) variable, which indicates, if here was nsfw (\"not suited for work\") content detected in the generated image. If this is \"yes\", images will just contain an all-black image.\n",
        "\n",
        "To access the property of a complex \"class\", such as *StableDiffusionPipelineOutput*, we can just use the \".\" operator."
      ],
      "metadata": {
        "id": "Ve1aHd74ugxm"
      }
    },
    {
      "cell_type": "code",
      "source": [
        "# We can write results.images to access the \"images\" property of the\n",
        "# class stored in results.\n",
        "# However, we know, that this list only contains one image, so we can \n",
        "# directly access this image by writing:\n",
        "\n",
        "image = results.images[0]\n",
        "\n",
        "# Now to display an image you can do either save it such as:\n",
        "image.save(f\"astronaut_rides_horse.png\")\n",
        "\n",
        "# or if you're in a google colab you can directly display it with \n",
        "image"
      ],
      "metadata": {
        "id": "PuM6I2z1ufVW"
      },
      "execution_count": null,
      "outputs": []
    },
    {
      "cell_type": "markdown",
      "source": [
        "Note that by clicking the folder icon on the left, \n",
        "\n",
        "![Bildschirm­foto 2022-11-14 um 20.45.51.png](data:image/png;base64,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)\n",
        "\n",
        "you can open a file browser, which shows you the content of the current working directory on your Colab machine. "
      ],
      "metadata": {
        "id": "IV_AoFv6qjxj"
      }
    },
    {
      "cell_type": "markdown",
      "source": [
        "![Bildschirm­foto 2022-11-14 um 20.47.08.png](data:image/png;base64,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)\n",
        "\n",
        "From there, you can download files via right-clicking or by clicking on the three dots which appear, when you hover with your mouse pointer over a file. \n",
        "\n",
        "We won't need this now, but for the sake of completeness: You can upload files via the corresponding icon \n",
        "\n",
        "![Bildschirm­foto 2022-11-14 um 20.48.17.png](data:image/png;base64,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)\n",
        "\n",
        "or by just dragging them onto the file browser area.\n",
        "\n",
        "**However, you can also just save the images directly from the notebook via right-clicking.**"
      ],
      "metadata": {
        "id": "FApli1nvr_Cw"
      }
    },
    {
      "cell_type": "markdown",
      "source": [
        "**Exercise**: Try to consolidate the code to define a prompt, use the \"pipe\" pipeline to generate an image, and display this image in the following (now still empty) code cell:"
      ],
      "metadata": {
        "id": "OGNj4JJkvzOI"
      }
    },
    {
      "cell_type": "code",
      "source": [
        "#### Type here your code to:\n",
        "##\n",
        "## 1.) Define a variable \"prompt\", which contains a text prompt\n",
        "## 2.) Generate an image via the pipeline, which is already stored in \"pipe\" \n",
        "## 3.) Display the image directly in the notebook\n",
        "##\n",
        "## Feel free to ask your coding-buddies or tutors for help at any time. :)\n",
        "\n"
      ],
      "metadata": {
        "id": "7NW9q67rwEdv"
      },
      "execution_count": null,
      "outputs": []
    },
    {
      "cell_type": "code",
      "source": [
        "#@title Click on \"show code\" for an exemplary solution\n",
        "\n",
        "prompt = 'A teddy bear on a skateboard in Times Square. Highest quality. DSLR.'\n",
        "\n",
        "image = pipe(prompt).images[0]\n",
        "\n",
        "image"
      ],
      "metadata": {
        "id": "6I07CB2XwoeB"
      },
      "execution_count": null,
      "outputs": []
    },
    {
      "cell_type": "markdown",
      "metadata": {
        "id": "NfZCwCecVJI3"
      },
      "source": [
        "Running the above cell multiple times will give you a different image every time (**try it out** and **feel free to experiment with some other prompts**). If you want deterministic output you can pass a so called random \"seed\" to the pipeline. Every time you use the same seed you'll have the same image result."
      ]
    },
    {
      "cell_type": "code",
      "execution_count": null,
      "metadata": {
        "id": "WaAW4sSdV7vZ"
      },
      "outputs": [],
      "source": [
        "import torch\n",
        "\n",
        "generator = torch.Generator(\"cuda\").manual_seed(1024)\n",
        "\n",
        "image = pipe(prompt, generator=generator).images[0]\n",
        "\n",
        "image"
      ]
    },
    {
      "cell_type": "markdown",
      "metadata": {
        "id": "_RrbYQVQXK6I"
      },
      "source": [
        "You can change the number of inference steps using the `num_inference_steps` argument. In general, results are better the more steps you use. Stable Diffusion, being one of the latest models, works great with a relatively small number of steps, so we recommend to use the default of `50`. If you want faster results you can use a smaller number.\n",
        "\n",
        "The following cell uses the same seed as before, but with fewer steps. Note how some details are less realistic and less defined than in the previous image:"
      ]
    },
    {
      "cell_type": "code",
      "execution_count": null,
      "metadata": {
        "id": "BKiK67iTXQkt"
      },
      "outputs": [],
      "source": [
        "import torch\n",
        "\n",
        "generator = torch.Generator(\"cuda\").manual_seed(1024)\n",
        "\n",
        "image = pipe(prompt, num_inference_steps=15, generator=generator).images[0]\n",
        "\n",
        "image"
      ]
    },
    {
      "cell_type": "markdown",
      "metadata": {
        "id": "Y8wxFjba5zRc"
      },
      "source": [
        "The other parameter in the pipeline call is `guidance_scale`. It is a way to increase the adherence to the conditional signal which in this case is text as well as overall sample quality. In simple terms classifier free guidance forces the generation to better match with the prompt. Numbers like `7` or `8.5` give good results, if you use a very large number the images might look good, but will be less diverse. \n",
        "\n",
        "You can learn about the technical details of this parameter in [the last section](https://colab.research.google.com/drive/1ALXuCM5iNnJDNW5vqBm5lCtUQtZJHN2f?authuser=1#scrollTo=UZp-ynZLrS-S) of this notebook."
      ]
    },
    {
      "cell_type": "markdown",
      "metadata": {
        "id": "bUbR3IszB1CD"
      },
      "source": [
        "To generate multiple images for the same prompt, we simply use a list with the same prompt repeated several times. We'll send the list to the pipeline instead of the string we used before."
      ]
    },
    {
      "cell_type": "markdown",
      "metadata": {
        "id": "6ZcgsflpBoEM"
      },
      "source": [
        "\n",
        "\n",
        "Let's first write a helper function to display a grid of images. Just run the following cell to create the `image_grid` function, or disclose the code if you are interested in how it's done."
      ]
    },
    {
      "cell_type": "code",
      "execution_count": null,
      "metadata": {
        "id": "REF_yuHprSa1",
        "cellView": "form"
      },
      "outputs": [],
      "source": [
        "#@title Create \"image_grid\" helper function\n",
        "\n",
        "from PIL import Image\n",
        "\n",
        "def image_grid(imgs, rows, cols):\n",
        "    assert len(imgs) == rows*cols\n",
        "\n",
        "    w, h = imgs[0].size\n",
        "    grid = Image.new('RGB', size=(cols*w, rows*h))\n",
        "    grid_w, grid_h = grid.size\n",
        "    \n",
        "    for i, img in enumerate(imgs):\n",
        "        grid.paste(img, box=(i%cols*w, i//cols*h))\n",
        "    return grid"
      ]
    },
    {
      "cell_type": "markdown",
      "source": [
        "Now, we can generate a grid image once having run the pipeline with a list of 3 prompts."
      ],
      "metadata": {
        "id": "AcHccTDWbQRU"
      }
    },
    {
      "cell_type": "code",
      "execution_count": null,
      "metadata": {
        "id": "-YAFLvWWrSdM"
      },
      "outputs": [],
      "source": [
        "num_images = 3\n",
        "prompt = [\"a photograph of an astronaut riding a horse\"] * num_images\n",
        "\n",
        "images = pipe(prompt).images\n",
        "\n",
        "grid = image_grid(images, rows=1, cols=3)\n",
        "grid"
      ]
    },
    {
      "cell_type": "markdown",
      "metadata": {
        "id": "Zj-3lCCWYtMn"
      },
      "source": [
        "And here's how to generate a grid of `n × m` images."
      ]
    },
    {
      "cell_type": "code",
      "execution_count": null,
      "metadata": {
        "id": "Ylscg48YYxfF"
      },
      "outputs": [],
      "source": [
        "num_cols = 3\n",
        "num_rows = 4\n",
        "\n",
        "prompt = [\"a photograph of an astronaut riding a horse\"] * num_cols\n",
        "\n",
        "all_images = []\n",
        "for i in range(num_rows):\n",
        "  images = pipe(prompt).images\n",
        "  all_images.extend(images)\n",
        "\n",
        "grid = image_grid(all_images, rows=num_rows, cols=num_cols)\n",
        "grid"
      ]
    },
    {
      "cell_type": "markdown",
      "metadata": {
        "id": "uf9pbS3kCsUf"
      },
      "source": [
        "### Generate non-square images\n",
        "\n",
        "Stable Diffusion produces images of `512 × 512` pixels by default. But it's very easy to override the default using the `height` and `width` arguments, so you can create rectangular images in portrait or landscape ratios.\n",
        "\n",
        "These are some recommendations to choose good image sizes:\n",
        "- Make sure `height` and `width` are both multiples of `8`.\n",
        "- Going below 512 might result in lower quality images.\n",
        "- Going over 512 in both directions will repeat image areas (global coherence is lost).\n",
        "- The best way to create non-square images is to use `512` in one dimension, and a value larger than that in the other one."
      ]
    },
    {
      "cell_type": "code",
      "execution_count": null,
      "metadata": {
        "id": "0SXnxd-ZrSfy"
      },
      "outputs": [],
      "source": [
        "prompt = \"a photograph of an astronaut riding a horse\"\n",
        "\n",
        "image = pipe(prompt, height=512, width=768).images[0]\n",
        "image"
      ]
    },
    {
      "cell_type": "markdown",
      "metadata": {
        "id": "yW14FA-tDQ5n"
      },
      "source": [
        "## 2. What is Stable Diffusion\n",
        "\n",
        "Now, let's go into the theoretical part of Stable Diffusion 👩‍🎓.\n",
        "\n",
        "Stable Diffusion is based on a particular type of diffusion model called **Latent Diffusion**, proposed in [High-Resolution Image Synthesis with Latent Diffusion Models](https://arxiv.org/abs/2112.10752).\n",
        "\n"
      ]
    },
    {
      "cell_type": "markdown",
      "metadata": {
        "id": "zHj_sllMaKTD"
      },
      "source": [
        "General diffusion models are machine learning systems that are trained to *denoise* random gaussian noise step by step, to get to a sample of interest, such as an *image*. For a more detailed overview of how they work, check [this colab](https://colab.research.google.com/github/huggingface/notebooks/blob/main/diffusers/diffusers_intro.ipynb).\n",
        "\n",
        "Diffusion models have shown to achieve state-of-the-art results for generating image data. But one downside of diffusion models is that the reverse denoising process is slow. In addition, these models consume a lot of memory because they operate in pixel space, which becomes unreasonably expensive when generating high-resolution images. Therefore, it is challenging to train these models and also use them for inference."
      ]
    },
    {
      "cell_type": "markdown",
      "metadata": {
        "id": "BBsdAj9pDPOv"
      },
      "source": [
        "\n",
        "\n",
        "<br>\n",
        "\n",
        "Latent diffusion can reduce the memory and compute complexity by applying the diffusion process over a lower dimensional _latent_ space, instead of using the actual pixel space. This is the key difference between standard diffusion and latent diffusion models: **in latent diffusion the model is trained to generate latent (compressed) representations of the images.** \n",
        "\n",
        "There are three main components in latent diffusion.\n",
        "\n",
        "1. An autoencoder (VAE).\n",
        "2. A [U-Net](https://colab.research.google.com/github/huggingface/notebooks/blob/main/diffusers/diffusers_intro.ipynb#scrollTo=wW8o1Wp0zRkq).\n",
        "3. A text-encoder, *e.g.* [CLIP's Text Encoder](https://huggingface.co/docs/transformers/model_doc/clip#transformers.CLIPTextModel)."
      ]
    },
    {
      "cell_type": "markdown",
      "metadata": {
        "id": "j4leRMZzjTsA"
      },
      "source": [
        "**1. The autoencoder (VAE)**\n",
        "\n",
        "The VAE model has two parts, an encoder and a decoder. The encoder is used to convert the image into a low dimensional latent representation, which will serve as the input to the *U-Net* model.\n",
        "The decoder, conversely, transforms the latent representation back into an image.\n",
        "\n",
        " During latent diffusion _training_, the encoder is used to get the latent representations (_latents_) of the images for the forward diffusion process, which applies more and more noise at each step. During _inference_, the denoised latents generated by the reverse diffusion process are converted back into images using the VAE decoder. As we will see during inference we **only need the VAE decoder**."
      ]
    },
    {
      "cell_type": "markdown",
      "source": [
        "**2. The U-Net**\n",
        "\n",
        "The U-Net has an encoder part and a decoder part both comprised of ResNet blocks.\n",
        "The encoder compresses an image representation into a lower resolution image representation and the decoder decodes the lower resolution image representation back to the original higher resolution image representation that is supposedly less noisy.\n",
        "More specifically, the U-Net output predicts the noise residual which can be used to compute the predicted denoised image representation.\n",
        "\n",
        "To prevent the U-Net from losing important information while downsampling, short-cut connections are usually added between the downsampling ResNets of the encoder to the upsampling ResNets of the decoder.\n",
        "Additionally, the stable diffusion U-Net is able to condition its output on text-embeddings via cross-attention layers. The cross-attention layers are added to both the encoder and decoder part of the U-Net usually between ResNet blocks."
      ],
      "metadata": {
        "id": "Jr5ZCb66kmyE"
      }
    },
    {
      "cell_type": "markdown",
      "source": [
        "**3. The Text-encoder**\n",
        "\n",
        "The text-encoder is responsible for transforming the input prompt, *e.g.* \"An astronout riding a horse\" into an embedding space that can be understood by the U-Net. It is usually a simple *transformer-based* encoder that maps a sequence of input tokens to a sequence of latent text-embeddings.\n",
        "\n",
        "Inspired by [Imagen](https://imagen.research.google/), Stable Diffusion does **not** train the text-encoder during training and simply uses an CLIP's already trained text encoder, [CLIPTextModel](https://huggingface.co/docs/transformers/model_doc/clip#transformers.CLIPTextModel)."
      ],
      "metadata": {
        "id": "YE7hhg5ArUu4"
      }
    },
    {
      "cell_type": "markdown",
      "metadata": {
        "id": "2-XnKTVfj2Jm"
      },
      "source": [
        "**Why is latent diffusion fast and efficient?**\n",
        "\n",
        "Since the U-Net of latent diffusion models operates on a low dimensional space, it greatly reduces the memory and compute requirements compared to pixel-space diffusion models. For example, the autoencoder used in Stable Diffusion has a reduction factor of 8. This means that an image of shape `(3, 512, 512)` becomes `(3, 64, 64)` in latent space, which requires `8 × 8 = 64` times less memory.\n",
        "\n",
        "This is why it's possible to generate `512 × 512` images so quickly, even on 16GB Colab GPUs!"
      ]
    },
    {
      "cell_type": "markdown",
      "metadata": {
        "id": "Zz5Ge_47jUaA"
      },
      "source": [
        "**Stable Diffusion during inference**\n",
        "\n",
        "Putting it all together, let's now take a closer look at how the model works in inference by illustrating the logical flow.\n"
      ]
    },
    {
      "cell_type": "markdown",
      "metadata": {
        "id": "cUBqX1sMsDR6"
      },
      "source": [
        "<p align=\"left\">\n",
        "<img src=\"https://raw.githubusercontent.com/patrickvonplaten/scientific_images/master/stable_diffusion.png\" alt=\"sd-pipeline\" width=\"500\"/>\n",
        "</p>\n",
        "\n",
        "The stable diffusion model takes both a latent seed and a text prompt as an input. The latent seed is then used to generate random latent image representations of size $64 \\times 64$ where as the text prompt is transformed to text embeddings of size $77 \\times 768$ via CLIP's text encoder.\n",
        "\n",
        "Next the U-Net iteratively *denoises* the random latent image representations while being conditioned on the text embeddings. The output of the U-Net, being the noise residual, is used to compute a denoised latent image representation via a scheduler algorithm. Many different scheduler algorithms can be used for this computation, each having its pros and cons. For Stable Diffusion, we recommend using one of:\n",
        "\n",
        "- [PNDM scheduler](https://github.com/huggingface/diffusers/blob/main/src/diffusers/schedulers/scheduling_pndm.py) (used by default)\n",
        "- [DDIM scheduler](https://github.com/huggingface/diffusers/blob/main/src/diffusers/schedulers/scheduling_ddim.py)\n",
        "- [K-LMS scheduler](https://github.com/huggingface/diffusers/blob/main/src/diffusers/schedulers/scheduling_lms_discrete.py)\n",
        "\n",
        "Theory on how the scheduler algorithm function is out of scope for this notebook, but in short one should remember that they compute the predicted denoised image representation from the previous noise representation and the predicted noise residual.\n",
        "For more information, we recommend looking into [Elucidating the Design Space of Diffusion-Based Generative Models](https://arxiv.org/abs/2206.00364)\n",
        "\n",
        "The *denoising* process is repeated *ca.* 50 times to step-by-step retrieve better latent image representations.\n",
        "Once complete, the latent image representation is decoded by the decoder part of the variational auto encoder."
      ]
    },
    {
      "cell_type": "markdown",
      "metadata": {
        "id": "2rR2Udg5IYjn"
      },
      "source": [
        "\n",
        "\n",
        "After this brief introduction to Latent and Stable Diffusion, let's see how to make advanced use of 🤗 Hugging Face Diffusers!"
      ]
    },
    {
      "cell_type": "markdown",
      "metadata": {
        "id": "UZp-ynZLrS-S"
      },
      "source": [
        "## 3. How to write your own inference pipeline with `diffusers`\n",
        "\n",
        "Finally, we show how you can create custom diffusion pipelines with `diffusers`.\n",
        "This is often very useful to dig a bit deeper into certain functionalities of the system and to potentially switch out certain components. \n",
        "\n",
        "In this section, we will demonstrate how to use Stable Diffusion with a different scheduler, namely [Katherine Crowson's](https://github.com/crowsonkb) K-LMS scheduler that was added in [this PR](https://github.com/huggingface/diffusers/pull/185#pullrequestreview-1074247365)."
      ]
    },
    {
      "cell_type": "markdown",
      "metadata": {
        "id": "KEXkmX3vDPRU"
      },
      "source": [
        "Let's go through the `StableDiffusionPipeline` step by step to see how we could have written it ourselves.\n",
        "\n",
        "We will start by loading the individual models involved."
      ]
    },
    {
      "cell_type": "code",
      "execution_count": null,
      "metadata": {
        "id": "IA-VoQm3YW-5"
      },
      "outputs": [],
      "source": [
        "import torch\n",
        "torch_device = \"cuda\" if torch.cuda.is_available() else \"cpu\""
      ]
    },
    {
      "cell_type": "markdown",
      "metadata": {
        "id": "n3Xw7qSEdTpt"
      },
      "source": [
        "The [pre-trained model](https://huggingface.co/CompVis/stable-diffusion-v1-3-diffusers/tree/main) includes all the components required to setup a complete diffusion pipeline. They are stored in the following folders:\n",
        "- `text_encoder`: Stable Diffusion uses CLIP, but other diffusion models may use other encoders such as `BERT`.\n",
        "- `tokenizer`. It must match the one used by the `text_encoder` model.\n",
        "- `scheduler`: The scheduling algorithm used to progressively add noise to the image during training.\n",
        "- `unet`: The model used to generate the latent representation of the input.\n",
        "- `vae`: Autoencoder module that we'll use to decode latent representations into real images.\n",
        "\n",
        "We can load the components by referring to the folder they were saved, using the `subfolder` argument to `from_pretrained`."
      ]
    },
    {
      "cell_type": "code",
      "execution_count": null,
      "metadata": {
        "id": "xlsKwQijWMpL"
      },
      "outputs": [],
      "source": [
        "from transformers import CLIPTextModel, CLIPTokenizer\n",
        "from diffusers import AutoencoderKL, UNet2DConditionModel, PNDMScheduler\n",
        "\n",
        "# 1. Load the autoencoder model which will be used to decode the latents into image space. \n",
        "vae = AutoencoderKL.from_pretrained(\"CompVis/stable-diffusion-v1-4\", subfolder=\"vae\")\n",
        "\n",
        "# 2. Load the tokenizer and text encoder to tokenize and encode the text. \n",
        "tokenizer = CLIPTokenizer.from_pretrained(\"openai/clip-vit-large-patch14\")\n",
        "text_encoder = CLIPTextModel.from_pretrained(\"openai/clip-vit-large-patch14\")\n",
        "\n",
        "# 3. The UNet model for generating the latents.\n",
        "unet = UNet2DConditionModel.from_pretrained(\"CompVis/stable-diffusion-v1-4\", subfolder=\"unet\")"
      ]
    },
    {
      "cell_type": "markdown",
      "metadata": {
        "id": "8eYstOqwVYGc"
      },
      "source": [
        "Now instead of loading the pre-defined scheduler, we load a K-LMS scheduler instead."
      ]
    },
    {
      "cell_type": "code",
      "execution_count": null,
      "metadata": {
        "id": "g-0W8UG6VXpD"
      },
      "outputs": [],
      "source": [
        "from diffusers import LMSDiscreteScheduler\n",
        "\n",
        "scheduler = LMSDiscreteScheduler(beta_start=0.00085, beta_end=0.012, beta_schedule=\"scaled_linear\", num_train_timesteps=1000)"
      ]
    },
    {
      "cell_type": "markdown",
      "metadata": {
        "id": "yBXqwuHFYgf4"
      },
      "source": [
        "Next we move the models to the GPU."
      ]
    },
    {
      "cell_type": "code",
      "execution_count": null,
      "metadata": {
        "id": "S3lJEXz7YgnC"
      },
      "outputs": [],
      "source": [
        "vae = vae.to(torch_device)\n",
        "text_encoder = text_encoder.to(torch_device)\n",
        "unet = unet.to(torch_device) "
      ]
    },
    {
      "cell_type": "markdown",
      "metadata": {
        "id": "YtqGYl5SY6dm"
      },
      "source": [
        "We now define the parameters we'll use to generate images.\n",
        "\n",
        "Note that `guidance_scale` is defined analog to the guidance weight `w` of equation (2) in the [Imagen paper](https://arxiv.org/pdf/2205.11487.pdf). `guidance_scale == 1` corresponds to doing no classifier-free guidance. Here we set it to 7.5 as also done previously.\n",
        "\n",
        "In contrast to the previous examples, we set `num_inference_steps` to 100 to get an even more defined image."
      ]
    },
    {
      "cell_type": "code",
      "execution_count": null,
      "metadata": {
        "id": "ot8RDV-2Y6uE"
      },
      "outputs": [],
      "source": [
        "prompt = [\"a photograph of an astronaut riding a horse\"]\n",
        "\n",
        "height = 512                        # default height of Stable Diffusion\n",
        "width = 512                         # default width of Stable Diffusion\n",
        "\n",
        "num_inference_steps = 100            # Number of denoising steps\n",
        "\n",
        "guidance_scale = 7.5                # Scale for classifier-free guidance\n",
        "\n",
        "generator = torch.manual_seed(32)   # Seed generator to create the inital latent noise\n",
        "\n",
        "batch_size = 1"
      ]
    },
    {
      "cell_type": "markdown",
      "metadata": {
        "id": "G47gEbg9Z4sJ"
      },
      "source": [
        "First, we get the text_embeddings for the prompt. These embeddings will be used to condition the UNet model."
      ]
    },
    {
      "cell_type": "code",
      "execution_count": null,
      "metadata": {
        "id": "mZpvyVT1Y6wq"
      },
      "outputs": [],
      "source": [
        "text_input = tokenizer(prompt, padding=\"max_length\", max_length=tokenizer.model_max_length, truncation=True, return_tensors=\"pt\")\n",
        "\n",
        "with torch.no_grad():\n",
        "  text_embeddings = text_encoder(text_input.input_ids.to(torch_device))[0]"
      ]
    },
    {
      "cell_type": "markdown",
      "metadata": {
        "id": "INGdc9eFaeWz"
      },
      "source": [
        "We'll also get the unconditional text embeddings for classifier-free guidance, which are just the embeddings for the padding token (empty text). They need to have the same shape as the conditional `text_embeddings` (`batch_size` and `seq_length`)"
      ]
    },
    {
      "cell_type": "code",
      "execution_count": null,
      "metadata": {
        "id": "wkuwhbFrY6zo"
      },
      "outputs": [],
      "source": [
        "max_length = text_input.input_ids.shape[-1]\n",
        "uncond_input = tokenizer(\n",
        "    [\"\"] * batch_size, padding=\"max_length\", max_length=max_length, return_tensors=\"pt\"\n",
        ")\n",
        "with torch.no_grad():\n",
        "  uncond_embeddings = text_encoder(uncond_input.input_ids.to(torch_device))[0]   "
      ]
    },
    {
      "cell_type": "markdown",
      "metadata": {
        "id": "3lKMrvoYbxzf"
      },
      "source": [
        "For classifier-free guidance, we need to do two forward passes. One with the conditioned input (`text_embeddings`), and another with the unconditional embeddings (`uncond_embeddings`). In practice, we can concatenate both into a single batch to avoid doing two forward passes."
      ]
    },
    {
      "cell_type": "code",
      "execution_count": null,
      "metadata": {
        "id": "AwnB7CIeY619"
      },
      "outputs": [],
      "source": [
        "text_embeddings = torch.cat([uncond_embeddings, text_embeddings])"
      ]
    },
    {
      "cell_type": "markdown",
      "metadata": {
        "id": "oxcaMgD0DPUD"
      },
      "source": [
        "Generate the intial random noise."
      ]
    },
    {
      "cell_type": "code",
      "execution_count": null,
      "metadata": {
        "id": "4NsfjxA-chAL"
      },
      "outputs": [],
      "source": [
        "latents = torch.randn(\n",
        "  (batch_size, unet.in_channels, height // 8, width // 8),\n",
        "  generator=generator,\n",
        ")\n",
        "latents = latents.to(torch_device)"
      ]
    },
    {
      "cell_type": "code",
      "execution_count": null,
      "metadata": {
        "id": "nC401krZfXOr"
      },
      "outputs": [],
      "source": [
        "latents.shape"
      ]
    },
    {
      "cell_type": "markdown",
      "metadata": {
        "id": "JDUOA1gHMp2Y"
      },
      "source": [
        "Cool $64 \\times 64$ is expected. The model will transform this latent representation (pure noise) into a `512 × 512` image later on.\n",
        "\n",
        "Next, we initialize the scheduler with our chosen `num_inference_steps`.\n",
        "This will compute the `sigmas` and exact time step values to be used during the denoising process."
      ]
    },
    {
      "cell_type": "code",
      "source": [
        "scheduler.set_timesteps(num_inference_steps)"
      ],
      "metadata": {
        "id": "f6UDqCyKwBpx"
      },
      "execution_count": null,
      "outputs": []
    },
    {
      "cell_type": "markdown",
      "metadata": {
        "id": "xTOxOKeqW4XE"
      },
      "source": [
        "The K-LMS scheduler needs to multiply the `latents` by its `sigma` values. Let's do this here"
      ]
    },
    {
      "cell_type": "code",
      "execution_count": null,
      "metadata": {
        "id": "aTwTq9d-W_NP"
      },
      "outputs": [],
      "source": [
        "latents = latents * scheduler.init_noise_sigma"
      ]
    },
    {
      "cell_type": "markdown",
      "metadata": {
        "id": "LdVkvYuYdjc6"
      },
      "source": [
        "We are ready to write the denoising loop."
      ]
    },
    {
      "cell_type": "markdown",
      "metadata": {
        "id": "3NXFFfjsS-zj"
      },
      "source": [
        "Using `autocast` will run inference faster because it uses half-precision."
      ]
    },
    {
      "cell_type": "code",
      "execution_count": null,
      "metadata": {
        "id": "Ylc3AIdZkFhl"
      },
      "outputs": [],
      "source": [
        "from tqdm.auto import tqdm\n",
        "from torch import autocast\n",
        "\n",
        "for t in tqdm(scheduler.timesteps):\n",
        "  # expand the latents if we are doing classifier-free guidance to avoid doing two forward passes.\n",
        "  latent_model_input = torch.cat([latents] * 2)\n",
        "\n",
        "  latent_model_input = scheduler.scale_model_input(latent_model_input, t)\n",
        "\n",
        "  # predict the noise residual\n",
        "  with torch.no_grad():\n",
        "    noise_pred = unet(latent_model_input, t, encoder_hidden_states=text_embeddings).sample\n",
        "\n",
        "  # perform guidance\n",
        "  noise_pred_uncond, noise_pred_text = noise_pred.chunk(2)\n",
        "  noise_pred = noise_pred_uncond + guidance_scale * (noise_pred_text - noise_pred_uncond)\n",
        "\n",
        "  # compute the previous noisy sample x_t -> x_t-1\n",
        "  latents = scheduler.step(noise_pred, t, latents).prev_sample"
      ]
    },
    {
      "cell_type": "markdown",
      "metadata": {
        "id": "sZUTKjm0kuDY"
      },
      "source": [
        "We now use the `vae` to decode the generated `latents` back into the image."
      ]
    },
    {
      "cell_type": "code",
      "execution_count": null,
      "metadata": {
        "id": "5YRzuJP7kMZo"
      },
      "outputs": [],
      "source": [
        "# scale and decode the image latents with vae\n",
        "latents = 1 / 0.18215 * latents\n",
        "\n",
        "with torch.no_grad():\n",
        "  image = vae.decode(latents).sample"
      ]
    },
    {
      "cell_type": "markdown",
      "metadata": {
        "id": "PmdOa4_Dqrl8"
      },
      "source": [
        "And finally, let's convert the image to PIL so we can display or save it."
      ]
    },
    {
      "cell_type": "code",
      "execution_count": null,
      "metadata": {
        "id": "AAVZStIokTVv"
      },
      "outputs": [],
      "source": [
        "image = (image / 2 + 0.5).clamp(0, 1)\n",
        "image = image.detach().cpu().permute(0, 2, 3, 1).numpy()\n",
        "images = (image * 255).round().astype(\"uint8\")\n",
        "pil_images = [Image.fromarray(image) for image in images]\n",
        "pil_images[0]"
      ]
    },
    {
      "cell_type": "markdown",
      "source": [
        "Nice, as we can see the photo has quite a definition 🔥."
      ],
      "metadata": {
        "id": "zjYuICyxwpeO"
      }
    }
  ],
  "metadata": {
    "accelerator": "GPU",
    "colab": {
      "collapsed_sections": [],
      "machine_shape": "hm",
      "name": "Stable Diffusion with 🧨 diffusers",
      "provenance": []
    },
    "gpuClass": "standard",
    "kernelspec": {
      "display_name": "Python 3",
      "name": "python3"
    },
    "language_info": {
      "name": "python"
    }
  },
  "nbformat": 4,
  "nbformat_minor": 0
}